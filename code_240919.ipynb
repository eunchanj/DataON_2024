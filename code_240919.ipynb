{
 "cells": [
  {
   "cell_type": "markdown",
   "id": "d19571be-b0fe-438b-b827-0d99a9513cdf",
   "metadata": {},
   "source": [
    "## Disease data to Document"
   ]
  },
  {
   "cell_type": "code",
   "execution_count": 2,
   "id": "a6b34787-1434-4342-9ef9-4e2b481430f4",
   "metadata": {},
   "outputs": [
    {
     "name": "stdout",
     "output_type": "stream",
     "text": [
      "Python 3.11.9\n"
     ]
    }
   ],
   "source": [
    "!python3 --version"
   ]
  },
  {
   "cell_type": "code",
   "execution_count": 1,
   "id": "ec6b33d0-3a99-44a5-8418-561ccee6f9da",
   "metadata": {},
   "outputs": [
    {
     "name": "stdout",
     "output_type": "stream",
     "text": [
      "Fri Sep 20 10:58:23 2024       \n",
      "+---------------------------------------------------------------------------------------+\n",
      "| NVIDIA-SMI 535.183.06             Driver Version: 535.183.06   CUDA Version: 12.2     |\n",
      "|-----------------------------------------+----------------------+----------------------+\n",
      "| GPU  Name                 Persistence-M | Bus-Id        Disp.A | Volatile Uncorr. ECC |\n",
      "| Fan  Temp   Perf          Pwr:Usage/Cap |         Memory-Usage | GPU-Util  Compute M. |\n",
      "|                                         |                      |               MIG M. |\n",
      "|=========================================+======================+======================|\n",
      "|   0  Tesla V100-PCIE-32GB           Off | 00000000:D8:00.0 Off |                    0 |\n",
      "| N/A   26C    P0              23W / 250W |      0MiB / 32768MiB |      0%      Default |\n",
      "|                                         |                      |                  N/A |\n",
      "+-----------------------------------------+----------------------+----------------------+\n",
      "                                                                                         \n",
      "+---------------------------------------------------------------------------------------+\n",
      "| Processes:                                                                            |\n",
      "|  GPU   GI   CI        PID   Type   Process name                            GPU Memory |\n",
      "|        ID   ID                                                             Usage      |\n",
      "|=======================================================================================|\n",
      "|  No running processes found                                                           |\n",
      "+---------------------------------------------------------------------------------------+\n"
     ]
    }
   ],
   "source": [
    "!nvidia-smi"
   ]
  },
  {
   "cell_type": "code",
   "execution_count": 1,
   "id": "59b51f10-826f-4bd0-b432-d33746c95a5d",
   "metadata": {
    "collapsed": true,
    "jupyter": {
     "outputs_hidden": true
    },
    "tags": []
   },
   "outputs": [
    {
     "name": "stdout",
     "output_type": "stream",
     "text": [
      "Requirement already satisfied: langchain in /home/joon09/miniconda3/envs/5po/lib/python3.11/site-packages (from -r requirements.txt (line 1)) (0.2.16)\n",
      "Requirement already satisfied: langchain_community in /home/joon09/miniconda3/envs/5po/lib/python3.11/site-packages (from -r requirements.txt (line 2)) (0.2.16)\n",
      "Requirement already satisfied: langchain_openai in /home/joon09/miniconda3/envs/5po/lib/python3.11/site-packages (from -r requirements.txt (line 3)) (0.1.23)\n",
      "Requirement already satisfied: langchainhub in /home/joon09/miniconda3/envs/5po/lib/python3.11/site-packages (from -r requirements.txt (line 4)) (0.1.21)\n",
      "Requirement already satisfied: langchain_experimental in /home/joon09/miniconda3/envs/5po/lib/python3.11/site-packages (from -r requirements.txt (line 5)) (0.0.65)\n",
      "Requirement already satisfied: langchain_text_splitters in /home/joon09/miniconda3/envs/5po/lib/python3.11/site-packages (from -r requirements.txt (line 6)) (0.2.4)\n",
      "Requirement already satisfied: langgraph in /home/joon09/miniconda3/envs/5po/lib/python3.11/site-packages (from -r requirements.txt (line 7)) (0.2.18)\n",
      "Requirement already satisfied: pytz in /home/joon09/miniconda3/envs/5po/lib/python3.11/site-packages (from -r requirements.txt (line 8)) (2024.1)\n",
      "Requirement already satisfied: pycryptodome in /home/joon09/miniconda3/envs/5po/lib/python3.11/site-packages (from -r requirements.txt (line 9)) (3.20.0)\n",
      "Requirement already satisfied: tabulate in /home/joon09/miniconda3/envs/5po/lib/python3.11/site-packages (from -r requirements.txt (line 10)) (0.9.0)\n",
      "Requirement already satisfied: pandas in /home/joon09/miniconda3/envs/5po/lib/python3.11/site-packages (from -r requirements.txt (line 11)) (2.2.2)\n",
      "Requirement already satisfied: scikit-learn in /home/joon09/miniconda3/envs/5po/lib/python3.11/site-packages (from -r requirements.txt (line 12)) (1.5.1)\n",
      "Requirement already satisfied: matplotlib in /home/joon09/miniconda3/envs/5po/lib/python3.11/site-packages (from -r requirements.txt (line 13)) (3.9.2)\n",
      "Requirement already satisfied: seaborn in /home/joon09/miniconda3/envs/5po/lib/python3.11/site-packages (from -r requirements.txt (line 14)) (0.13.2)\n",
      "Requirement already satisfied: aioredis in /home/joon09/miniconda3/envs/5po/lib/python3.11/site-packages (from -r requirements.txt (line 15)) (2.0.1)\n",
      "Requirement already satisfied: flashrank in /home/joon09/miniconda3/envs/5po/lib/python3.11/site-packages (from -r requirements.txt (line 16)) (0.2.9)\n",
      "Requirement already satisfied: ipython in /home/joon09/miniconda3/envs/5po/lib/python3.11/site-packages (from -r requirements.txt (line 17)) (8.27.0)\n",
      "Requirement already satisfied: openpyxl in /home/joon09/miniconda3/envs/5po/lib/python3.11/site-packages (from -r requirements.txt (line 18)) (3.1.5)\n",
      "Requirement already satisfied: vllm in /home/joon09/miniconda3/envs/5po/lib/python3.11/site-packages (from -r requirements.txt (line 19)) (0.6.0)\n",
      "Requirement already satisfied: rank_bm25 in /home/joon09/miniconda3/envs/5po/lib/python3.11/site-packages (from -r requirements.txt (line 20)) (0.2.2)\n",
      "Requirement already satisfied: accelerate in /home/joon09/miniconda3/envs/5po/lib/python3.11/site-packages (from -r requirements.txt (line 21)) (0.34.2)\n",
      "Requirement already satisfied: sentence-transformers in /home/joon09/miniconda3/envs/5po/lib/python3.11/site-packages (from -r requirements.txt (line 22)) (3.0.1)\n",
      "Requirement already satisfied: einops in /home/joon09/miniconda3/envs/5po/lib/python3.11/site-packages (from -r requirements.txt (line 23)) (0.8.0)\n",
      "Requirement already satisfied: langchain-huggingface in /home/joon09/miniconda3/envs/5po/lib/python3.11/site-packages (from -r requirements.txt (line 24)) (0.0.3)\n",
      "Requirement already satisfied: chromadb in /home/joon09/miniconda3/envs/5po/lib/python3.11/site-packages (from -r requirements.txt (line 25)) (0.5.5)\n",
      "Requirement already satisfied: bitsandbytes>=0.42.0 in /home/joon09/miniconda3/envs/5po/lib/python3.11/site-packages (from -r requirements.txt (line 26)) (0.43.3)\n",
      "Requirement already satisfied: ipywidgets in /home/joon09/miniconda3/envs/5po/lib/python3.11/site-packages (from -r requirements.txt (line 27)) (8.1.5)\n",
      "Requirement already satisfied: PyYAML>=5.3 in /home/joon09/miniconda3/envs/5po/lib/python3.11/site-packages (from langchain->-r requirements.txt (line 1)) (6.0.2)\n",
      "Requirement already satisfied: SQLAlchemy<3,>=1.4 in /home/joon09/miniconda3/envs/5po/lib/python3.11/site-packages (from langchain->-r requirements.txt (line 1)) (2.0.34)\n",
      "Requirement already satisfied: aiohttp<4.0.0,>=3.8.3 in /home/joon09/miniconda3/envs/5po/lib/python3.11/site-packages (from langchain->-r requirements.txt (line 1)) (3.10.5)\n",
      "Requirement already satisfied: langchain-core<0.3.0,>=0.2.38 in /home/joon09/miniconda3/envs/5po/lib/python3.11/site-packages (from langchain->-r requirements.txt (line 1)) (0.2.38)\n",
      "Requirement already satisfied: langsmith<0.2.0,>=0.1.17 in /home/joon09/miniconda3/envs/5po/lib/python3.11/site-packages (from langchain->-r requirements.txt (line 1)) (0.1.115)\n",
      "Requirement already satisfied: numpy<2,>=1 in /home/joon09/miniconda3/envs/5po/lib/python3.11/site-packages (from langchain->-r requirements.txt (line 1)) (1.26.4)\n",
      "Requirement already satisfied: pydantic<3,>=1 in /home/joon09/miniconda3/envs/5po/lib/python3.11/site-packages (from langchain->-r requirements.txt (line 1)) (2.9.0)\n",
      "Requirement already satisfied: requests<3,>=2 in /home/joon09/miniconda3/envs/5po/lib/python3.11/site-packages (from langchain->-r requirements.txt (line 1)) (2.32.3)\n",
      "Requirement already satisfied: tenacity!=8.4.0,<9.0.0,>=8.1.0 in /home/joon09/miniconda3/envs/5po/lib/python3.11/site-packages (from langchain->-r requirements.txt (line 1)) (8.5.0)\n",
      "Requirement already satisfied: dataclasses-json<0.7,>=0.5.7 in /home/joon09/miniconda3/envs/5po/lib/python3.11/site-packages (from langchain_community->-r requirements.txt (line 2)) (0.6.7)\n",
      "Requirement already satisfied: openai<2.0.0,>=1.40.0 in /home/joon09/miniconda3/envs/5po/lib/python3.11/site-packages (from langchain_openai->-r requirements.txt (line 3)) (1.43.1)\n",
      "Requirement already satisfied: tiktoken<1,>=0.7 in /home/joon09/miniconda3/envs/5po/lib/python3.11/site-packages (from langchain_openai->-r requirements.txt (line 3)) (0.7.0)\n",
      "Requirement already satisfied: packaging<25,>=23.2 in /home/joon09/miniconda3/envs/5po/lib/python3.11/site-packages (from langchainhub->-r requirements.txt (line 4)) (24.1)\n",
      "Requirement already satisfied: types-requests<3.0.0.0,>=2.31.0.2 in /home/joon09/miniconda3/envs/5po/lib/python3.11/site-packages (from langchainhub->-r requirements.txt (line 4)) (2.32.0.20240905)\n",
      "Requirement already satisfied: langgraph-checkpoint<2.0.0,>=1.0.2 in /home/joon09/miniconda3/envs/5po/lib/python3.11/site-packages (from langgraph->-r requirements.txt (line 7)) (1.0.9)\n",
      "Requirement already satisfied: python-dateutil>=2.8.2 in /home/joon09/miniconda3/envs/5po/lib/python3.11/site-packages (from pandas->-r requirements.txt (line 11)) (2.9.0)\n",
      "Requirement already satisfied: tzdata>=2022.7 in /home/joon09/miniconda3/envs/5po/lib/python3.11/site-packages (from pandas->-r requirements.txt (line 11)) (2024.1)\n",
      "Requirement already satisfied: scipy>=1.6.0 in /home/joon09/miniconda3/envs/5po/lib/python3.11/site-packages (from scikit-learn->-r requirements.txt (line 12)) (1.14.1)\n",
      "Requirement already satisfied: joblib>=1.2.0 in /home/joon09/miniconda3/envs/5po/lib/python3.11/site-packages (from scikit-learn->-r requirements.txt (line 12)) (1.4.2)\n",
      "Requirement already satisfied: threadpoolctl>=3.1.0 in /home/joon09/miniconda3/envs/5po/lib/python3.11/site-packages (from scikit-learn->-r requirements.txt (line 12)) (3.5.0)\n",
      "Requirement already satisfied: contourpy>=1.0.1 in /home/joon09/miniconda3/envs/5po/lib/python3.11/site-packages (from matplotlib->-r requirements.txt (line 13)) (1.3.0)\n",
      "Requirement already satisfied: cycler>=0.10 in /home/joon09/miniconda3/envs/5po/lib/python3.11/site-packages (from matplotlib->-r requirements.txt (line 13)) (0.12.1)\n",
      "Requirement already satisfied: fonttools>=4.22.0 in /home/joon09/miniconda3/envs/5po/lib/python3.11/site-packages (from matplotlib->-r requirements.txt (line 13)) (4.53.1)\n",
      "Requirement already satisfied: kiwisolver>=1.3.1 in /home/joon09/miniconda3/envs/5po/lib/python3.11/site-packages (from matplotlib->-r requirements.txt (line 13)) (1.4.7)\n",
      "Requirement already satisfied: pillow>=8 in /home/joon09/miniconda3/envs/5po/lib/python3.11/site-packages (from matplotlib->-r requirements.txt (line 13)) (10.4.0)\n",
      "Requirement already satisfied: pyparsing>=2.3.1 in /home/joon09/miniconda3/envs/5po/lib/python3.11/site-packages (from matplotlib->-r requirements.txt (line 13)) (3.1.4)\n",
      "Requirement already satisfied: async-timeout in /home/joon09/miniconda3/envs/5po/lib/python3.11/site-packages (from aioredis->-r requirements.txt (line 15)) (4.0.3)\n",
      "Requirement already satisfied: typing-extensions in /home/joon09/miniconda3/envs/5po/lib/python3.11/site-packages (from aioredis->-r requirements.txt (line 15)) (4.12.2)\n",
      "Requirement already satisfied: tokenizers in /home/joon09/miniconda3/envs/5po/lib/python3.11/site-packages (from flashrank->-r requirements.txt (line 16)) (0.19.1)\n",
      "Requirement already satisfied: onnxruntime in /home/joon09/miniconda3/envs/5po/lib/python3.11/site-packages (from flashrank->-r requirements.txt (line 16)) (1.19.2)\n",
      "Requirement already satisfied: tqdm in /home/joon09/miniconda3/envs/5po/lib/python3.11/site-packages (from flashrank->-r requirements.txt (line 16)) (4.66.5)\n",
      "Requirement already satisfied: decorator in /home/joon09/miniconda3/envs/5po/lib/python3.11/site-packages (from ipython->-r requirements.txt (line 17)) (5.1.1)\n",
      "Requirement already satisfied: jedi>=0.16 in /home/joon09/miniconda3/envs/5po/lib/python3.11/site-packages (from ipython->-r requirements.txt (line 17)) (0.19.1)\n",
      "Requirement already satisfied: matplotlib-inline in /home/joon09/miniconda3/envs/5po/lib/python3.11/site-packages (from ipython->-r requirements.txt (line 17)) (0.1.7)\n",
      "Requirement already satisfied: prompt-toolkit<3.1.0,>=3.0.41 in /home/joon09/miniconda3/envs/5po/lib/python3.11/site-packages (from ipython->-r requirements.txt (line 17)) (3.0.47)\n",
      "Requirement already satisfied: pygments>=2.4.0 in /home/joon09/miniconda3/envs/5po/lib/python3.11/site-packages (from ipython->-r requirements.txt (line 17)) (2.18.0)\n",
      "Requirement already satisfied: stack-data in /home/joon09/miniconda3/envs/5po/lib/python3.11/site-packages (from ipython->-r requirements.txt (line 17)) (0.6.2)\n",
      "Requirement already satisfied: traitlets>=5.13.0 in /home/joon09/miniconda3/envs/5po/lib/python3.11/site-packages (from ipython->-r requirements.txt (line 17)) (5.14.3)\n",
      "Requirement already satisfied: pexpect>4.3 in /home/joon09/miniconda3/envs/5po/lib/python3.11/site-packages (from ipython->-r requirements.txt (line 17)) (4.9.0)\n",
      "Requirement already satisfied: et-xmlfile in /home/joon09/miniconda3/envs/5po/lib/python3.11/site-packages (from openpyxl->-r requirements.txt (line 18)) (1.1.0)\n",
      "Requirement already satisfied: psutil in /home/joon09/miniconda3/envs/5po/lib/python3.11/site-packages (from vllm->-r requirements.txt (line 19)) (6.0.0)\n",
      "Requirement already satisfied: sentencepiece in /home/joon09/miniconda3/envs/5po/lib/python3.11/site-packages (from vllm->-r requirements.txt (line 19)) (0.2.0)\n",
      "Requirement already satisfied: py-cpuinfo in /home/joon09/miniconda3/envs/5po/lib/python3.11/site-packages (from vllm->-r requirements.txt (line 19)) (9.0.0)\n",
      "Requirement already satisfied: transformers>=4.43.2 in /home/joon09/miniconda3/envs/5po/lib/python3.11/site-packages (from vllm->-r requirements.txt (line 19)) (4.44.2)\n",
      "Requirement already satisfied: protobuf in /home/joon09/miniconda3/envs/5po/lib/python3.11/site-packages (from vllm->-r requirements.txt (line 19)) (4.25.4)\n",
      "Requirement already satisfied: fastapi in /home/joon09/miniconda3/envs/5po/lib/python3.11/site-packages (from vllm->-r requirements.txt (line 19)) (0.113.0)\n",
      "Requirement already satisfied: uvicorn[standard] in /home/joon09/miniconda3/envs/5po/lib/python3.11/site-packages (from vllm->-r requirements.txt (line 19)) (0.30.6)\n",
      "Requirement already satisfied: prometheus-client>=0.18.0 in /home/joon09/miniconda3/envs/5po/lib/python3.11/site-packages (from vllm->-r requirements.txt (line 19)) (0.20.0)\n",
      "Requirement already satisfied: prometheus-fastapi-instrumentator>=7.0.0 in /home/joon09/miniconda3/envs/5po/lib/python3.11/site-packages (from vllm->-r requirements.txt (line 19)) (7.0.0)\n",
      "Requirement already satisfied: lm-format-enforcer==0.10.6 in /home/joon09/miniconda3/envs/5po/lib/python3.11/site-packages (from vllm->-r requirements.txt (line 19)) (0.10.6)\n",
      "Requirement already satisfied: outlines<0.1,>=0.0.43 in /home/joon09/miniconda3/envs/5po/lib/python3.11/site-packages (from vllm->-r requirements.txt (line 19)) (0.0.46)\n",
      "Requirement already satisfied: filelock>=3.10.4 in /home/joon09/miniconda3/envs/5po/lib/python3.11/site-packages (from vllm->-r requirements.txt (line 19)) (3.15.4)\n",
      "Requirement already satisfied: partial-json-parser in /home/joon09/miniconda3/envs/5po/lib/python3.11/site-packages (from vllm->-r requirements.txt (line 19)) (0.2.1.1.post4)\n",
      "Requirement already satisfied: pyzmq in /home/joon09/miniconda3/envs/5po/lib/python3.11/site-packages (from vllm->-r requirements.txt (line 19)) (26.2.0)\n",
      "Requirement already satisfied: msgspec in /home/joon09/miniconda3/envs/5po/lib/python3.11/site-packages (from vllm->-r requirements.txt (line 19)) (0.18.6)\n",
      "Requirement already satisfied: gguf==0.9.1 in /home/joon09/miniconda3/envs/5po/lib/python3.11/site-packages (from vllm->-r requirements.txt (line 19)) (0.9.1)\n",
      "Requirement already satisfied: importlib-metadata in /home/joon09/miniconda3/envs/5po/lib/python3.11/site-packages (from vllm->-r requirements.txt (line 19)) (8.4.0)\n",
      "Requirement already satisfied: mistral-common>=1.3.4 in /home/joon09/miniconda3/envs/5po/lib/python3.11/site-packages (from vllm->-r requirements.txt (line 19)) (1.3.4)\n",
      "Requirement already satisfied: ray>=2.9 in /home/joon09/miniconda3/envs/5po/lib/python3.11/site-packages (from vllm->-r requirements.txt (line 19)) (2.35.0)\n",
      "Requirement already satisfied: nvidia-ml-py in /home/joon09/miniconda3/envs/5po/lib/python3.11/site-packages (from vllm->-r requirements.txt (line 19)) (12.560.30)\n",
      "Requirement already satisfied: torch==2.4.0 in /home/joon09/miniconda3/envs/5po/lib/python3.11/site-packages (from vllm->-r requirements.txt (line 19)) (2.4.0)\n",
      "Requirement already satisfied: torchvision==0.19 in /home/joon09/miniconda3/envs/5po/lib/python3.11/site-packages (from vllm->-r requirements.txt (line 19)) (0.19.0)\n",
      "Requirement already satisfied: xformers==0.0.27.post2 in /home/joon09/miniconda3/envs/5po/lib/python3.11/site-packages (from vllm->-r requirements.txt (line 19)) (0.0.27.post2)\n",
      "Requirement already satisfied: vllm-flash-attn==2.6.1 in /home/joon09/miniconda3/envs/5po/lib/python3.11/site-packages (from vllm->-r requirements.txt (line 19)) (2.6.1)\n",
      "Requirement already satisfied: interegular>=0.3.2 in /home/joon09/miniconda3/envs/5po/lib/python3.11/site-packages (from lm-format-enforcer==0.10.6->vllm->-r requirements.txt (line 19)) (0.3.3)\n",
      "Requirement already satisfied: sympy in /home/joon09/miniconda3/envs/5po/lib/python3.11/site-packages (from torch==2.4.0->vllm->-r requirements.txt (line 19)) (1.13.2)\n",
      "Requirement already satisfied: networkx in /home/joon09/miniconda3/envs/5po/lib/python3.11/site-packages (from torch==2.4.0->vllm->-r requirements.txt (line 19)) (3.3)\n",
      "Requirement already satisfied: jinja2 in /home/joon09/miniconda3/envs/5po/lib/python3.11/site-packages (from torch==2.4.0->vllm->-r requirements.txt (line 19)) (3.1.4)\n",
      "Requirement already satisfied: fsspec in /home/joon09/miniconda3/envs/5po/lib/python3.11/site-packages (from torch==2.4.0->vllm->-r requirements.txt (line 19)) (2024.6.1)\n",
      "Requirement already satisfied: nvidia-cuda-nvrtc-cu12==12.1.105 in /home/joon09/miniconda3/envs/5po/lib/python3.11/site-packages (from torch==2.4.0->vllm->-r requirements.txt (line 19)) (12.1.105)\n",
      "Requirement already satisfied: nvidia-cuda-runtime-cu12==12.1.105 in /home/joon09/miniconda3/envs/5po/lib/python3.11/site-packages (from torch==2.4.0->vllm->-r requirements.txt (line 19)) (12.1.105)\n",
      "Requirement already satisfied: nvidia-cuda-cupti-cu12==12.1.105 in /home/joon09/miniconda3/envs/5po/lib/python3.11/site-packages (from torch==2.4.0->vllm->-r requirements.txt (line 19)) (12.1.105)\n",
      "Requirement already satisfied: nvidia-cudnn-cu12==9.1.0.70 in /home/joon09/miniconda3/envs/5po/lib/python3.11/site-packages (from torch==2.4.0->vllm->-r requirements.txt (line 19)) (9.1.0.70)\n",
      "Requirement already satisfied: nvidia-cublas-cu12==12.1.3.1 in /home/joon09/miniconda3/envs/5po/lib/python3.11/site-packages (from torch==2.4.0->vllm->-r requirements.txt (line 19)) (12.1.3.1)\n",
      "Requirement already satisfied: nvidia-cufft-cu12==11.0.2.54 in /home/joon09/miniconda3/envs/5po/lib/python3.11/site-packages (from torch==2.4.0->vllm->-r requirements.txt (line 19)) (11.0.2.54)\n",
      "Requirement already satisfied: nvidia-curand-cu12==10.3.2.106 in /home/joon09/miniconda3/envs/5po/lib/python3.11/site-packages (from torch==2.4.0->vllm->-r requirements.txt (line 19)) (10.3.2.106)\n",
      "Requirement already satisfied: nvidia-cusolver-cu12==11.4.5.107 in /home/joon09/miniconda3/envs/5po/lib/python3.11/site-packages (from torch==2.4.0->vllm->-r requirements.txt (line 19)) (11.4.5.107)\n",
      "Requirement already satisfied: nvidia-cusparse-cu12==12.1.0.106 in /home/joon09/miniconda3/envs/5po/lib/python3.11/site-packages (from torch==2.4.0->vllm->-r requirements.txt (line 19)) (12.1.0.106)\n",
      "Requirement already satisfied: nvidia-nccl-cu12==2.20.5 in /home/joon09/miniconda3/envs/5po/lib/python3.11/site-packages (from torch==2.4.0->vllm->-r requirements.txt (line 19)) (2.20.5)\n",
      "Requirement already satisfied: nvidia-nvtx-cu12==12.1.105 in /home/joon09/miniconda3/envs/5po/lib/python3.11/site-packages (from torch==2.4.0->vllm->-r requirements.txt (line 19)) (12.1.105)\n",
      "Requirement already satisfied: triton==3.0.0 in /home/joon09/miniconda3/envs/5po/lib/python3.11/site-packages (from torch==2.4.0->vllm->-r requirements.txt (line 19)) (3.0.0)\n",
      "Requirement already satisfied: nvidia-nvjitlink-cu12 in /home/joon09/miniconda3/envs/5po/lib/python3.11/site-packages (from nvidia-cusolver-cu12==11.4.5.107->torch==2.4.0->vllm->-r requirements.txt (line 19)) (12.6.68)\n",
      "Requirement already satisfied: huggingface-hub>=0.21.0 in /home/joon09/miniconda3/envs/5po/lib/python3.11/site-packages (from accelerate->-r requirements.txt (line 21)) (0.24.6)\n",
      "Requirement already satisfied: safetensors>=0.4.3 in /home/joon09/miniconda3/envs/5po/lib/python3.11/site-packages (from accelerate->-r requirements.txt (line 21)) (0.4.5)\n",
      "Requirement already satisfied: build>=1.0.3 in /home/joon09/miniconda3/envs/5po/lib/python3.11/site-packages (from chromadb->-r requirements.txt (line 25)) (1.2.1)\n",
      "Requirement already satisfied: chroma-hnswlib==0.7.6 in /home/joon09/miniconda3/envs/5po/lib/python3.11/site-packages (from chromadb->-r requirements.txt (line 25)) (0.7.6)\n",
      "Requirement already satisfied: posthog>=2.4.0 in /home/joon09/miniconda3/envs/5po/lib/python3.11/site-packages (from chromadb->-r requirements.txt (line 25)) (3.6.3)\n",
      "Requirement already satisfied: opentelemetry-api>=1.2.0 in /home/joon09/miniconda3/envs/5po/lib/python3.11/site-packages (from chromadb->-r requirements.txt (line 25)) (1.27.0)\n",
      "Requirement already satisfied: opentelemetry-exporter-otlp-proto-grpc>=1.2.0 in /home/joon09/miniconda3/envs/5po/lib/python3.11/site-packages (from chromadb->-r requirements.txt (line 25)) (1.27.0)\n",
      "Requirement already satisfied: opentelemetry-instrumentation-fastapi>=0.41b0 in /home/joon09/miniconda3/envs/5po/lib/python3.11/site-packages (from chromadb->-r requirements.txt (line 25)) (0.48b0)\n",
      "Requirement already satisfied: opentelemetry-sdk>=1.2.0 in /home/joon09/miniconda3/envs/5po/lib/python3.11/site-packages (from chromadb->-r requirements.txt (line 25)) (1.27.0)\n",
      "Requirement already satisfied: pypika>=0.48.9 in /home/joon09/miniconda3/envs/5po/lib/python3.11/site-packages (from chromadb->-r requirements.txt (line 25)) (0.48.9)\n",
      "Requirement already satisfied: overrides>=7.3.1 in /home/joon09/miniconda3/envs/5po/lib/python3.11/site-packages (from chromadb->-r requirements.txt (line 25)) (7.7.0)\n",
      "Requirement already satisfied: importlib-resources in /home/joon09/miniconda3/envs/5po/lib/python3.11/site-packages (from chromadb->-r requirements.txt (line 25)) (6.4.4)\n",
      "Requirement already satisfied: grpcio>=1.58.0 in /home/joon09/miniconda3/envs/5po/lib/python3.11/site-packages (from chromadb->-r requirements.txt (line 25)) (1.66.1)\n",
      "Requirement already satisfied: bcrypt>=4.0.1 in /home/joon09/miniconda3/envs/5po/lib/python3.11/site-packages (from chromadb->-r requirements.txt (line 25)) (4.2.0)\n",
      "Requirement already satisfied: typer>=0.9.0 in /home/joon09/miniconda3/envs/5po/lib/python3.11/site-packages (from chromadb->-r requirements.txt (line 25)) (0.12.5)\n",
      "Requirement already satisfied: kubernetes>=28.1.0 in /home/joon09/miniconda3/envs/5po/lib/python3.11/site-packages (from chromadb->-r requirements.txt (line 25)) (30.1.0)\n",
      "Requirement already satisfied: mmh3>=4.0.1 in /home/joon09/miniconda3/envs/5po/lib/python3.11/site-packages (from chromadb->-r requirements.txt (line 25)) (4.1.0)\n",
      "Requirement already satisfied: orjson>=3.9.12 in /home/joon09/miniconda3/envs/5po/lib/python3.11/site-packages (from chromadb->-r requirements.txt (line 25)) (3.10.7)\n",
      "Requirement already satisfied: httpx>=0.27.0 in /home/joon09/miniconda3/envs/5po/lib/python3.11/site-packages (from chromadb->-r requirements.txt (line 25)) (0.27.2)\n",
      "Requirement already satisfied: comm>=0.1.3 in /home/joon09/miniconda3/envs/5po/lib/python3.11/site-packages (from ipywidgets->-r requirements.txt (line 27)) (0.2.2)\n",
      "Requirement already satisfied: widgetsnbextension~=4.0.12 in /home/joon09/miniconda3/envs/5po/lib/python3.11/site-packages (from ipywidgets->-r requirements.txt (line 27)) (4.0.13)\n",
      "Requirement already satisfied: jupyterlab-widgets~=3.0.12 in /home/joon09/miniconda3/envs/5po/lib/python3.11/site-packages (from ipywidgets->-r requirements.txt (line 27)) (3.0.13)\n",
      "Requirement already satisfied: aiohappyeyeballs>=2.3.0 in /home/joon09/miniconda3/envs/5po/lib/python3.11/site-packages (from aiohttp<4.0.0,>=3.8.3->langchain->-r requirements.txt (line 1)) (2.4.0)\n",
      "Requirement already satisfied: aiosignal>=1.1.2 in /home/joon09/miniconda3/envs/5po/lib/python3.11/site-packages (from aiohttp<4.0.0,>=3.8.3->langchain->-r requirements.txt (line 1)) (1.3.1)\n",
      "Requirement already satisfied: attrs>=17.3.0 in /home/joon09/miniconda3/envs/5po/lib/python3.11/site-packages (from aiohttp<4.0.0,>=3.8.3->langchain->-r requirements.txt (line 1)) (24.2.0)\n",
      "Requirement already satisfied: frozenlist>=1.1.1 in /home/joon09/miniconda3/envs/5po/lib/python3.11/site-packages (from aiohttp<4.0.0,>=3.8.3->langchain->-r requirements.txt (line 1)) (1.4.1)\n",
      "Requirement already satisfied: multidict<7.0,>=4.5 in /home/joon09/miniconda3/envs/5po/lib/python3.11/site-packages (from aiohttp<4.0.0,>=3.8.3->langchain->-r requirements.txt (line 1)) (6.0.5)\n",
      "Requirement already satisfied: yarl<2.0,>=1.0 in /home/joon09/miniconda3/envs/5po/lib/python3.11/site-packages (from aiohttp<4.0.0,>=3.8.3->langchain->-r requirements.txt (line 1)) (1.9.11)\n",
      "Requirement already satisfied: pyproject_hooks in /home/joon09/miniconda3/envs/5po/lib/python3.11/site-packages (from build>=1.0.3->chromadb->-r requirements.txt (line 25)) (1.1.0)\n",
      "Requirement already satisfied: marshmallow<4.0.0,>=3.18.0 in /home/joon09/miniconda3/envs/5po/lib/python3.11/site-packages (from dataclasses-json<0.7,>=0.5.7->langchain_community->-r requirements.txt (line 2)) (3.22.0)\n",
      "Requirement already satisfied: typing-inspect<1,>=0.4.0 in /home/joon09/miniconda3/envs/5po/lib/python3.11/site-packages (from dataclasses-json<0.7,>=0.5.7->langchain_community->-r requirements.txt (line 2)) (0.9.0)\n",
      "Requirement already satisfied: starlette<0.39.0,>=0.37.2 in /home/joon09/miniconda3/envs/5po/lib/python3.11/site-packages (from fastapi->vllm->-r requirements.txt (line 19)) (0.38.4)\n",
      "Requirement already satisfied: anyio in /home/joon09/miniconda3/envs/5po/lib/python3.11/site-packages (from httpx>=0.27.0->chromadb->-r requirements.txt (line 25)) (4.4.0)\n",
      "Requirement already satisfied: certifi in /home/joon09/miniconda3/envs/5po/lib/python3.11/site-packages (from httpx>=0.27.0->chromadb->-r requirements.txt (line 25)) (2024.8.30)\n",
      "Requirement already satisfied: httpcore==1.* in /home/joon09/miniconda3/envs/5po/lib/python3.11/site-packages (from httpx>=0.27.0->chromadb->-r requirements.txt (line 25)) (1.0.5)\n",
      "Requirement already satisfied: idna in /home/joon09/miniconda3/envs/5po/lib/python3.11/site-packages (from httpx>=0.27.0->chromadb->-r requirements.txt (line 25)) (3.8)\n",
      "Requirement already satisfied: sniffio in /home/joon09/miniconda3/envs/5po/lib/python3.11/site-packages (from httpx>=0.27.0->chromadb->-r requirements.txt (line 25)) (1.3.1)\n",
      "Requirement already satisfied: h11<0.15,>=0.13 in /home/joon09/miniconda3/envs/5po/lib/python3.11/site-packages (from httpcore==1.*->httpx>=0.27.0->chromadb->-r requirements.txt (line 25)) (0.14.0)\n",
      "Requirement already satisfied: parso<0.9.0,>=0.8.3 in /home/joon09/miniconda3/envs/5po/lib/python3.11/site-packages (from jedi>=0.16->ipython->-r requirements.txt (line 17)) (0.8.4)\n",
      "Requirement already satisfied: six>=1.9.0 in /home/joon09/miniconda3/envs/5po/lib/python3.11/site-packages (from kubernetes>=28.1.0->chromadb->-r requirements.txt (line 25)) (1.16.0)\n",
      "Requirement already satisfied: google-auth>=1.0.1 in /home/joon09/miniconda3/envs/5po/lib/python3.11/site-packages (from kubernetes>=28.1.0->chromadb->-r requirements.txt (line 25)) (2.34.0)\n",
      "Requirement already satisfied: websocket-client!=0.40.0,!=0.41.*,!=0.42.*,>=0.32.0 in /home/joon09/miniconda3/envs/5po/lib/python3.11/site-packages (from kubernetes>=28.1.0->chromadb->-r requirements.txt (line 25)) (1.8.0)\n",
      "Requirement already satisfied: requests-oauthlib in /home/joon09/miniconda3/envs/5po/lib/python3.11/site-packages (from kubernetes>=28.1.0->chromadb->-r requirements.txt (line 25)) (2.0.0)\n",
      "Requirement already satisfied: oauthlib>=3.2.2 in /home/joon09/miniconda3/envs/5po/lib/python3.11/site-packages (from kubernetes>=28.1.0->chromadb->-r requirements.txt (line 25)) (3.2.2)\n",
      "Requirement already satisfied: urllib3>=1.24.2 in /home/joon09/miniconda3/envs/5po/lib/python3.11/site-packages (from kubernetes>=28.1.0->chromadb->-r requirements.txt (line 25)) (2.2.2)\n",
      "Requirement already satisfied: jsonpatch<2.0,>=1.33 in /home/joon09/miniconda3/envs/5po/lib/python3.11/site-packages (from langchain-core<0.3.0,>=0.2.38->langchain->-r requirements.txt (line 1)) (1.33)\n",
      "Requirement already satisfied: jsonschema<5.0.0,>=4.21.1 in /home/joon09/miniconda3/envs/5po/lib/python3.11/site-packages (from mistral-common>=1.3.4->vllm->-r requirements.txt (line 19)) (4.23.0)\n",
      "Requirement already satisfied: coloredlogs in /home/joon09/miniconda3/envs/5po/lib/python3.11/site-packages (from onnxruntime->flashrank->-r requirements.txt (line 16)) (15.0.1)\n",
      "Requirement already satisfied: flatbuffers in /home/joon09/miniconda3/envs/5po/lib/python3.11/site-packages (from onnxruntime->flashrank->-r requirements.txt (line 16)) (24.3.25)\n",
      "Requirement already satisfied: distro<2,>=1.7.0 in /home/joon09/miniconda3/envs/5po/lib/python3.11/site-packages (from openai<2.0.0,>=1.40.0->langchain_openai->-r requirements.txt (line 3)) (1.9.0)\n",
      "Requirement already satisfied: jiter<1,>=0.4.0 in /home/joon09/miniconda3/envs/5po/lib/python3.11/site-packages (from openai<2.0.0,>=1.40.0->langchain_openai->-r requirements.txt (line 3)) (0.5.0)\n",
      "Requirement already satisfied: deprecated>=1.2.6 in /home/joon09/miniconda3/envs/5po/lib/python3.11/site-packages (from opentelemetry-api>=1.2.0->chromadb->-r requirements.txt (line 25)) (1.2.14)\n",
      "Requirement already satisfied: zipp>=0.5 in /home/joon09/miniconda3/envs/5po/lib/python3.11/site-packages (from importlib-metadata->vllm->-r requirements.txt (line 19)) (3.20.1)\n",
      "Requirement already satisfied: googleapis-common-protos~=1.52 in /home/joon09/miniconda3/envs/5po/lib/python3.11/site-packages (from opentelemetry-exporter-otlp-proto-grpc>=1.2.0->chromadb->-r requirements.txt (line 25)) (1.65.0)\n",
      "Requirement already satisfied: opentelemetry-exporter-otlp-proto-common==1.27.0 in /home/joon09/miniconda3/envs/5po/lib/python3.11/site-packages (from opentelemetry-exporter-otlp-proto-grpc>=1.2.0->chromadb->-r requirements.txt (line 25)) (1.27.0)\n",
      "Requirement already satisfied: opentelemetry-proto==1.27.0 in /home/joon09/miniconda3/envs/5po/lib/python3.11/site-packages (from opentelemetry-exporter-otlp-proto-grpc>=1.2.0->chromadb->-r requirements.txt (line 25)) (1.27.0)\n",
      "Requirement already satisfied: opentelemetry-instrumentation-asgi==0.48b0 in /home/joon09/miniconda3/envs/5po/lib/python3.11/site-packages (from opentelemetry-instrumentation-fastapi>=0.41b0->chromadb->-r requirements.txt (line 25)) (0.48b0)\n",
      "Requirement already satisfied: opentelemetry-instrumentation==0.48b0 in /home/joon09/miniconda3/envs/5po/lib/python3.11/site-packages (from opentelemetry-instrumentation-fastapi>=0.41b0->chromadb->-r requirements.txt (line 25)) (0.48b0)\n",
      "Requirement already satisfied: opentelemetry-semantic-conventions==0.48b0 in /home/joon09/miniconda3/envs/5po/lib/python3.11/site-packages (from opentelemetry-instrumentation-fastapi>=0.41b0->chromadb->-r requirements.txt (line 25)) (0.48b0)\n",
      "Requirement already satisfied: opentelemetry-util-http==0.48b0 in /home/joon09/miniconda3/envs/5po/lib/python3.11/site-packages (from opentelemetry-instrumentation-fastapi>=0.41b0->chromadb->-r requirements.txt (line 25)) (0.48b0)\n",
      "Requirement already satisfied: setuptools>=16.0 in /home/joon09/miniconda3/envs/5po/lib/python3.11/site-packages (from opentelemetry-instrumentation==0.48b0->opentelemetry-instrumentation-fastapi>=0.41b0->chromadb->-r requirements.txt (line 25)) (73.0.1)\n",
      "Requirement already satisfied: wrapt<2.0.0,>=1.0.0 in /home/joon09/miniconda3/envs/5po/lib/python3.11/site-packages (from opentelemetry-instrumentation==0.48b0->opentelemetry-instrumentation-fastapi>=0.41b0->chromadb->-r requirements.txt (line 25)) (1.16.0)\n",
      "Requirement already satisfied: asgiref~=3.0 in /home/joon09/miniconda3/envs/5po/lib/python3.11/site-packages (from opentelemetry-instrumentation-asgi==0.48b0->opentelemetry-instrumentation-fastapi>=0.41b0->chromadb->-r requirements.txt (line 25)) (3.8.1)\n",
      "Requirement already satisfied: lark in /home/joon09/miniconda3/envs/5po/lib/python3.11/site-packages (from outlines<0.1,>=0.0.43->vllm->-r requirements.txt (line 19)) (1.2.2)\n",
      "Requirement already satisfied: nest-asyncio in /home/joon09/miniconda3/envs/5po/lib/python3.11/site-packages (from outlines<0.1,>=0.0.43->vllm->-r requirements.txt (line 19)) (1.6.0)\n",
      "Requirement already satisfied: cloudpickle in /home/joon09/miniconda3/envs/5po/lib/python3.11/site-packages (from outlines<0.1,>=0.0.43->vllm->-r requirements.txt (line 19)) (3.0.0)\n",
      "Requirement already satisfied: diskcache in /home/joon09/miniconda3/envs/5po/lib/python3.11/site-packages (from outlines<0.1,>=0.0.43->vllm->-r requirements.txt (line 19)) (5.6.3)\n",
      "Requirement already satisfied: numba in /home/joon09/miniconda3/envs/5po/lib/python3.11/site-packages (from outlines<0.1,>=0.0.43->vllm->-r requirements.txt (line 19)) (0.60.0)\n",
      "Requirement already satisfied: referencing in /home/joon09/miniconda3/envs/5po/lib/python3.11/site-packages (from outlines<0.1,>=0.0.43->vllm->-r requirements.txt (line 19)) (0.35.1)\n",
      "Requirement already satisfied: datasets in /home/joon09/miniconda3/envs/5po/lib/python3.11/site-packages (from outlines<0.1,>=0.0.43->vllm->-r requirements.txt (line 19)) (2.21.0)\n",
      "Requirement already satisfied: pycountry in /home/joon09/miniconda3/envs/5po/lib/python3.11/site-packages (from outlines<0.1,>=0.0.43->vllm->-r requirements.txt (line 19)) (24.6.1)\n",
      "Requirement already satisfied: pyairports in /home/joon09/miniconda3/envs/5po/lib/python3.11/site-packages (from outlines<0.1,>=0.0.43->vllm->-r requirements.txt (line 19)) (2.1.1)\n",
      "Requirement already satisfied: ptyprocess>=0.5 in /home/joon09/miniconda3/envs/5po/lib/python3.11/site-packages (from pexpect>4.3->ipython->-r requirements.txt (line 17)) (0.7.0)\n",
      "Requirement already satisfied: monotonic>=1.5 in /home/joon09/miniconda3/envs/5po/lib/python3.11/site-packages (from posthog>=2.4.0->chromadb->-r requirements.txt (line 25)) (1.6)\n",
      "Requirement already satisfied: backoff>=1.10.0 in /home/joon09/miniconda3/envs/5po/lib/python3.11/site-packages (from posthog>=2.4.0->chromadb->-r requirements.txt (line 25)) (2.2.1)\n",
      "Requirement already satisfied: wcwidth in /home/joon09/miniconda3/envs/5po/lib/python3.11/site-packages (from prompt-toolkit<3.1.0,>=3.0.41->ipython->-r requirements.txt (line 17)) (0.2.13)\n",
      "Requirement already satisfied: annotated-types>=0.4.0 in /home/joon09/miniconda3/envs/5po/lib/python3.11/site-packages (from pydantic<3,>=1->langchain->-r requirements.txt (line 1)) (0.7.0)\n",
      "Requirement already satisfied: pydantic-core==2.23.2 in /home/joon09/miniconda3/envs/5po/lib/python3.11/site-packages (from pydantic<3,>=1->langchain->-r requirements.txt (line 1)) (2.23.2)\n",
      "Requirement already satisfied: click>=7.0 in /home/joon09/miniconda3/envs/5po/lib/python3.11/site-packages (from ray>=2.9->vllm->-r requirements.txt (line 19)) (8.1.7)\n",
      "Requirement already satisfied: msgpack<2.0.0,>=1.0.0 in /home/joon09/miniconda3/envs/5po/lib/python3.11/site-packages (from ray>=2.9->vllm->-r requirements.txt (line 19)) (1.0.8)\n",
      "Requirement already satisfied: charset-normalizer<4,>=2 in /home/joon09/miniconda3/envs/5po/lib/python3.11/site-packages (from requests<3,>=2->langchain->-r requirements.txt (line 1)) (3.3.2)\n",
      "Requirement already satisfied: greenlet!=0.4.17 in /home/joon09/miniconda3/envs/5po/lib/python3.11/site-packages (from SQLAlchemy<3,>=1.4->langchain->-r requirements.txt (line 1)) (3.0.3)\n",
      "Requirement already satisfied: regex>=2022.1.18 in /home/joon09/miniconda3/envs/5po/lib/python3.11/site-packages (from tiktoken<1,>=0.7->langchain_openai->-r requirements.txt (line 3)) (2024.7.24)\n",
      "Requirement already satisfied: shellingham>=1.3.0 in /home/joon09/miniconda3/envs/5po/lib/python3.11/site-packages (from typer>=0.9.0->chromadb->-r requirements.txt (line 25)) (1.5.4)\n",
      "Requirement already satisfied: rich>=10.11.0 in /home/joon09/miniconda3/envs/5po/lib/python3.11/site-packages (from typer>=0.9.0->chromadb->-r requirements.txt (line 25)) (13.8.0)\n",
      "Requirement already satisfied: httptools>=0.5.0 in /home/joon09/miniconda3/envs/5po/lib/python3.11/site-packages (from uvicorn[standard]->vllm->-r requirements.txt (line 19)) (0.6.1)\n",
      "Requirement already satisfied: python-dotenv>=0.13 in /home/joon09/miniconda3/envs/5po/lib/python3.11/site-packages (from uvicorn[standard]->vllm->-r requirements.txt (line 19)) (1.0.1)\n",
      "Requirement already satisfied: uvloop!=0.15.0,!=0.15.1,>=0.14.0 in /home/joon09/miniconda3/envs/5po/lib/python3.11/site-packages (from uvicorn[standard]->vllm->-r requirements.txt (line 19)) (0.20.0)\n",
      "Requirement already satisfied: watchfiles>=0.13 in /home/joon09/miniconda3/envs/5po/lib/python3.11/site-packages (from uvicorn[standard]->vllm->-r requirements.txt (line 19)) (0.24.0)\n",
      "Requirement already satisfied: websockets>=10.4 in /home/joon09/miniconda3/envs/5po/lib/python3.11/site-packages (from uvicorn[standard]->vllm->-r requirements.txt (line 19)) (13.0.1)\n",
      "Requirement already satisfied: executing>=1.2.0 in /home/joon09/miniconda3/envs/5po/lib/python3.11/site-packages (from stack-data->ipython->-r requirements.txt (line 17)) (2.1.0)\n",
      "Requirement already satisfied: asttokens>=2.1.0 in /home/joon09/miniconda3/envs/5po/lib/python3.11/site-packages (from stack-data->ipython->-r requirements.txt (line 17)) (2.4.1)\n",
      "Requirement already satisfied: pure-eval in /home/joon09/miniconda3/envs/5po/lib/python3.11/site-packages (from stack-data->ipython->-r requirements.txt (line 17)) (0.2.3)\n",
      "Requirement already satisfied: cachetools<6.0,>=2.0.0 in /home/joon09/miniconda3/envs/5po/lib/python3.11/site-packages (from google-auth>=1.0.1->kubernetes>=28.1.0->chromadb->-r requirements.txt (line 25)) (5.5.0)\n",
      "Requirement already satisfied: pyasn1-modules>=0.2.1 in /home/joon09/miniconda3/envs/5po/lib/python3.11/site-packages (from google-auth>=1.0.1->kubernetes>=28.1.0->chromadb->-r requirements.txt (line 25)) (0.4.0)\n",
      "Requirement already satisfied: rsa<5,>=3.1.4 in /home/joon09/miniconda3/envs/5po/lib/python3.11/site-packages (from google-auth>=1.0.1->kubernetes>=28.1.0->chromadb->-r requirements.txt (line 25)) (4.9)\n",
      "Requirement already satisfied: jsonpointer>=1.9 in /home/joon09/miniconda3/envs/5po/lib/python3.11/site-packages (from jsonpatch<2.0,>=1.33->langchain-core<0.3.0,>=0.2.38->langchain->-r requirements.txt (line 1)) (3.0.0)\n",
      "Requirement already satisfied: jsonschema-specifications>=2023.03.6 in /home/joon09/miniconda3/envs/5po/lib/python3.11/site-packages (from jsonschema<5.0.0,>=4.21.1->mistral-common>=1.3.4->vllm->-r requirements.txt (line 19)) (2023.12.1)\n",
      "Requirement already satisfied: rpds-py>=0.7.1 in /home/joon09/miniconda3/envs/5po/lib/python3.11/site-packages (from jsonschema<5.0.0,>=4.21.1->mistral-common>=1.3.4->vllm->-r requirements.txt (line 19)) (0.20.0)\n",
      "Requirement already satisfied: markdown-it-py>=2.2.0 in /home/joon09/miniconda3/envs/5po/lib/python3.11/site-packages (from rich>=10.11.0->typer>=0.9.0->chromadb->-r requirements.txt (line 25)) (3.0.0)\n",
      "Requirement already satisfied: mypy-extensions>=0.3.0 in /home/joon09/miniconda3/envs/5po/lib/python3.11/site-packages (from typing-inspect<1,>=0.4.0->dataclasses-json<0.7,>=0.5.7->langchain_community->-r requirements.txt (line 2)) (1.0.0)\n",
      "Requirement already satisfied: humanfriendly>=9.1 in /home/joon09/miniconda3/envs/5po/lib/python3.11/site-packages (from coloredlogs->onnxruntime->flashrank->-r requirements.txt (line 16)) (10.0)\n",
      "Requirement already satisfied: pyarrow>=15.0.0 in /home/joon09/miniconda3/envs/5po/lib/python3.11/site-packages (from datasets->outlines<0.1,>=0.0.43->vllm->-r requirements.txt (line 19)) (17.0.0)\n",
      "Requirement already satisfied: dill<0.3.9,>=0.3.0 in /home/joon09/miniconda3/envs/5po/lib/python3.11/site-packages (from datasets->outlines<0.1,>=0.0.43->vllm->-r requirements.txt (line 19)) (0.3.8)\n",
      "Requirement already satisfied: xxhash in /home/joon09/miniconda3/envs/5po/lib/python3.11/site-packages (from datasets->outlines<0.1,>=0.0.43->vllm->-r requirements.txt (line 19)) (3.5.0)\n",
      "Requirement already satisfied: multiprocess in /home/joon09/miniconda3/envs/5po/lib/python3.11/site-packages (from datasets->outlines<0.1,>=0.0.43->vllm->-r requirements.txt (line 19)) (0.70.16)\n",
      "Requirement already satisfied: MarkupSafe>=2.0 in /home/joon09/miniconda3/envs/5po/lib/python3.11/site-packages (from jinja2->torch==2.4.0->vllm->-r requirements.txt (line 19)) (2.1.5)\n",
      "Requirement already satisfied: llvmlite<0.44,>=0.43.0dev0 in /home/joon09/miniconda3/envs/5po/lib/python3.11/site-packages (from numba->outlines<0.1,>=0.0.43->vllm->-r requirements.txt (line 19)) (0.43.0)\n",
      "Requirement already satisfied: mpmath<1.4,>=1.1.0 in /home/joon09/miniconda3/envs/5po/lib/python3.11/site-packages (from sympy->torch==2.4.0->vllm->-r requirements.txt (line 19)) (1.3.0)\n",
      "Requirement already satisfied: mdurl~=0.1 in /home/joon09/miniconda3/envs/5po/lib/python3.11/site-packages (from markdown-it-py>=2.2.0->rich>=10.11.0->typer>=0.9.0->chromadb->-r requirements.txt (line 25)) (0.1.2)\n",
      "Requirement already satisfied: pyasn1<0.7.0,>=0.4.6 in /home/joon09/miniconda3/envs/5po/lib/python3.11/site-packages (from pyasn1-modules>=0.2.1->google-auth>=1.0.1->kubernetes>=28.1.0->chromadb->-r requirements.txt (line 25)) (0.6.0)\n"
     ]
    }
   ],
   "source": [
    "!pip3 install -r requirements.txt"
   ]
  },
  {
   "cell_type": "code",
   "execution_count": null,
   "id": "7d56e5e4-7ced-4fac-a3e0-b9e0e5e84013",
   "metadata": {},
   "outputs": [],
   "source": [
    "# 초기 모델 다운로드\n",
    "import transformers\n",
    "import torch\n",
    "\n",
    "model_id = \"maywell/EXAONE-3.0-7.8B-Instruct-Llamafied\"\n",
    "\n",
    "pipeline = transformers.pipeline(\n",
    "    \"text-generation\",\n",
    "    model=model_id,\n",
    "    model_kwargs={\"torch_dtype\": torch.float16},\n",
    "    device_map=\"cpu\",\n",
    ")\n",
    "\n",
    "pipeline.model.save_pretrained('./maywell/EXAONE-3.0-7.8B-Instruct-Llamafied')\n",
    "pipeline.tokenizer.save_pretrained('./maywell/EXAONE-3.0-7.8B-Instruct-Llamafied')\n",
    "del pipeline"
   ]
  },
  {
   "cell_type": "code",
   "execution_count": null,
   "id": "e4ea716e-11d9-4355-aa6f-a470b99639aa",
   "metadata": {},
   "outputs": [],
   "source": []
  },
  {
   "cell_type": "code",
   "execution_count": 2,
   "id": "d5f15ffb-d331-4dd1-9055-820c323b98cc",
   "metadata": {},
   "outputs": [],
   "source": [
    "def text_format(row):\n",
    "    text = f\"\"\"\n",
    "    Difine: {row['define']}\n",
    "    ===\n",
    "    Disease name: {row['disease_name']}\n",
    "    ===\n",
    "    Target Animals: {row['animal']}\n",
    "    ===\n",
    "    Cause: {row['cause']}\n",
    "    ===\n",
    "    Disease Now: {row['disease_now']}\n",
    "    ===\n",
    "    Condition: {row['condition']}\n",
    "    ===\n",
    "    Jindan: {row['jindan']}\n",
    "    ===\n",
    "    Opinion: {row['opinion']}\n",
    "    ===\n",
    "    Treatment: {row['treatment']}\n",
    "    ===\n",
    "    Advice: {row['advice']}\n",
    "    \"\"\"\n",
    "    return text"
   ]
  },
  {
   "cell_type": "code",
   "execution_count": null,
   "id": "4d3be5f2-9bc4-4dfe-91aa-07164acf14c8",
   "metadata": {},
   "outputs": [],
   "source": []
  },
  {
   "cell_type": "code",
   "execution_count": 40,
   "id": "42196ccc-64b4-4a55-9003-272d4152e804",
   "metadata": {},
   "outputs": [
    {
     "data": {
      "text/plain": [
       "Document(metadata={'disease_name': '코로나 바이러스 감염증, 개(Canine Coronavirus Infection)', 'animal': '개', 'cause': 'canine coronavirus ', 'define': '개 코로나 바이러스(CCV)에 의해 발생하며 구토와 설사를 수반하는 장염을 유발하는 질병', 'disease_now': '# 성견에서는 불현성 감염이나 경미한 임상증상을 보이나 자견에서는 녹황색에서 담적색의 설사와 함께 급사하기도 함. 모든 연령과 품종에서 발생# 일차적인 전파는 분변에 의해 일어나며 약2주간 분변으로 바이러스 배출# 잠복기는 1-3일# 바이러스혈증이나 전신적 질환은 나타나지 않음# 야생 개과에서도 발생, 전염성이 매우 강하며 전 세계적으로 만연된 질병으로 그 증상이 CPV-2와 유사함.# 고양이에서는 불현성 감염을 일으킴# 집에서 키우는 동물 및 야생동물 모두 감염될 수 있음', 'condition': ' | 구토 | 무기력 , 침울 , 졸림 , 생기없음 | 발열 , 고열 | 분변 냄새의 이상 | 설사 , 하리 | 식욕부진 , 식욕감소 , 식욕절폐 , 젖을 안먹임 , 먹이 공급 중단 | 점액변 , 점액양분변 | 탈수 | 혈변 ', 'jindan': '혈청학적 진단, 바이러스 분리, 면역형광검사, 전자현미경, PCR(급성기)', 'opinion': '[임상병리소견]  PCV증가, CPV와 달리 백혈구 감소가 관찰되지 않음 [병리해부소견]  소장점막의 심한 충·출혈 및 장간막 림프절의 종대 및 충혈[병리조직소견]  소장 융모의 위축과 융합, 고유판 세포수의 증가, 상피세포의 편평화와 술잔세포 증가가 특징적', 'treatment': \"# 치료하지 않아도 회복되는 경우도 있으나 심할 경우 대증요법 외에 특별한 치료법 없음  -수액: lactated ringer's 용액, 80-90ml/kg/h을 투여후 배뇨하면 dextrose ringer 용액(10ml/kg/h) 투여  -항생제: ampicillin 10-20mg/kg, 1일 3회, 경구투여\", 'advice': '# CCV는 백신후 면역력 획득이 좋으므로 백신이 매우 중요함# 치료후 10-12일간 설사가 지속될수 있으며, 다시 재발할 수 있음# 개집을 깨끗이 청소하고 소독할 것# 기타'}, page_content=\"\\n    Difine: 개 코로나 바이러스(CCV)에 의해 발생하며 구토와 설사를 수반하는 장염을 유발하는 질병\\n    ===\\n    Disease name: 코로나 바이러스 감염증, 개(Canine Coronavirus Infection)\\n    ===\\n    Target Animals: 개\\n    ===\\n    Cause: canine coronavirus \\n    ===\\n    Disease Now: # 성견에서는 불현성 감염이나 경미한 임상증상을 보이나 자견에서는 녹황색에서 담적색의 설사와 함께 급사하기도 함. 모든 연령과 품종에서 발생# 일차적인 전파는 분변에 의해 일어나며 약2주간 분변으로 바이러스 배출# 잠복기는 1-3일# 바이러스혈증이나 전신적 질환은 나타나지 않음# 야생 개과에서도 발생, 전염성이 매우 강하며 전 세계적으로 만연된 질병으로 그 증상이 CPV-2와 유사함.# 고양이에서는 불현성 감염을 일으킴# 집에서 키우는 동물 및 야생동물 모두 감염될 수 있음\\n    ===\\n    Condition:  | 구토 | 무기력 , 침울 , 졸림 , 생기없음 | 발열 , 고열 | 분변 냄새의 이상 | 설사 , 하리 | 식욕부진 , 식욕감소 , 식욕절폐 , 젖을 안먹임 , 먹이 공급 중단 | 점액변 , 점액양분변 | 탈수 | 혈변 \\n    ===\\n    Jindan: 혈청학적 진단, 바이러스 분리, 면역형광검사, 전자현미경, PCR(급성기)\\n    ===\\n    Opinion: [임상병리소견]  PCV증가, CPV와 달리 백혈구 감소가 관찰되지 않음 [병리해부소견]  소장점막의 심한 충·출혈 및 장간막 림프절의 종대 및 충혈[병리조직소견]  소장 융모의 위축과 융합, 고유판 세포수의 증가, 상피세포의 편평화와 술잔세포 증가가 특징적\\n    ===\\n    Treatment: # 치료하지 않아도 회복되는 경우도 있으나 심할 경우 대증요법 외에 특별한 치료법 없음  -수액: lactated ringer's 용액, 80-90ml/kg/h을 투여후 배뇨하면 dextrose ringer 용액(10ml/kg/h) 투여  -항생제: ampicillin 10-20mg/kg, 1일 3회, 경구투여\\n    ===\\n    Advice: # CCV는 백신후 면역력 획득이 좋으므로 백신이 매우 중요함# 치료후 10-12일간 설사가 지속될수 있으며, 다시 재발할 수 있음# 개집을 깨끗이 청소하고 소독할 것# 기타\\n    \")"
      ]
     },
     "execution_count": 40,
     "metadata": {},
     "output_type": "execute_result"
    }
   ],
   "source": [
    "documents[2]"
   ]
  },
  {
   "cell_type": "code",
   "execution_count": 3,
   "id": "50d1342c-ae1e-4245-b696-b23f8ca12526",
   "metadata": {},
   "outputs": [],
   "source": [
    "import pandas as pd\n",
    "from langchain.vectorstores import Chroma\n",
    "from langchain_community.retrievers import BM25Retriever\n",
    "from langchain.embeddings import OpenAIEmbeddings\n",
    "from langchain.schema import Document\n",
    "\n",
    "\n",
    "# Load the dataset\n",
    "file_path = 'data/disease.xlsx'\n",
    "df = pd.read_excel(file_path)\n",
    "\n",
    "# Clean the dataset (example: removing unwanted characters)\n",
    "df = df.apply(lambda x: x.str.replace('_x000d_\\n', '') if x.dtype == \"object\" else x)\n",
    "\n",
    "# Create a list of Document objects\n",
    "documents = [\n",
    "    Document(page_content=text_format(row), metadata={\n",
    "        'disease_name': row['disease_name'],\n",
    "        'animal': row['animal'],\n",
    "        'cause': row['cause'],\n",
    "        'define': row['define'],\n",
    "        'disease_now': row['disease_now'],\n",
    "        'condition': row['condition'],\n",
    "        'jindan': row['jindan'],\n",
    "        'opinion': row['opinion'],\n",
    "        'treatment': row['treatment'],\n",
    "        'advice': row['advice']\n",
    "    }) for _, row in df.iterrows()\n",
    "]"
   ]
  },
  {
   "cell_type": "code",
   "execution_count": 34,
   "id": "e60f1b94-9c7c-4230-aceb-825a81e5cc3d",
   "metadata": {},
   "outputs": [
    {
     "name": "stderr",
     "output_type": "stream",
     "text": [
      "huggingface/tokenizers: The current process just got forked, after parallelism has already been used. Disabling parallelism to avoid deadlocks...\n",
      "To disable this warning, you can either:\n",
      "\t- Avoid using `tokenizers` before the fork if possible\n",
      "\t- Explicitly set the environment variable TOKENIZERS_PARALLELISM=(true | false)\n"
     ]
    },
    {
     "name": "stdout",
     "output_type": "stream",
     "text": [
      "/mnt/workspace/MyFiles\n"
     ]
    }
   ],
   "source": []
  },
  {
   "cell_type": "code",
   "execution_count": 5,
   "id": "abe24504-9be3-402c-8fd7-09092bde9ba1",
   "metadata": {},
   "outputs": [],
   "source": [
    "# To documents.pdf\n",
    "from reportlab.lib.pagesizes import letter\n",
    "from reportlab.pdfgen import canvas\n",
    "from reportlab.pdfbase.ttfonts import TTFont\n",
    "from reportlab.pdfbase import pdfmetrics\n",
    "\n",
    "# NanumGothic 폰트 등록\n",
    "def register_fonts():\n",
    "    pdfmetrics.registerFont(TTFont('NanumGothic', 'NanumGothic.ttf'))\n",
    "\n",
    "# 텍스트를 페이지 너비에 맞게 자동 줄바꿈하는 함수\n",
    "def split_text_to_lines(text, font, font_size, max_width):\n",
    "    words = text.split()\n",
    "    lines = []\n",
    "    current_line = \"\"\n",
    "\n",
    "    for word in words:\n",
    "        test_line = current_line + \" \" + word if current_line else word\n",
    "        if pdfmetrics.stringWidth(test_line, font, font_size) <= max_width:\n",
    "            current_line = test_line\n",
    "        else:\n",
    "            lines.append(current_line)\n",
    "            current_line = word\n",
    "\n",
    "    if current_line:\n",
    "        lines.append(current_line)\n",
    "\n",
    "    return lines\n",
    "\n",
    "# 텍스트를 페이지에 맞게 출력하는 함수\n",
    "def add_text_with_auto_pagination(pdf, text, margin, y_position, page_height, page_width, font=\"NanumGothic\", font_size=6):\n",
    "    pdf.setFont(font, font_size)\n",
    "    max_width = page_width - 2 * margin  # 페이지의 너비에서 여백을 뺀 최대 너비\n",
    "    lines = split_text_to_lines(text, font, font_size, max_width)\n",
    "    line_height = font_size + 2  # 줄 간격을 적절히 조정\n",
    "\n",
    "    for line in lines:\n",
    "        if y_position < margin:  # 페이지 하단에 도달하면 새 페이지 추가\n",
    "            pdf.showPage()\n",
    "            y_position = page_height - margin\n",
    "            pdf.setFont(font, font_size)\n",
    "\n",
    "        pdf.drawString(margin, y_position, line)\n",
    "        y_position -= line_height\n",
    "\n",
    "    return y_position\n",
    "\n",
    "# PDF 저장 함수\n",
    "def save_documents_to_pdf(documents, file_name):\n",
    "    pdf = canvas.Canvas(file_name, pagesize=letter)\n",
    "    register_fonts()  # 폰트 등록\n",
    "    width, height = letter\n",
    "    margin = 40\n",
    "\n",
    "    for doc in documents:\n",
    "        y_position = height - margin  # 새 페이지에서 처음 시작할 위치\n",
    "\n",
    "        # 페이지 컨텐츠 출력\n",
    "        y_position = add_text_with_auto_pagination(pdf, \"Page Content:\", margin, y_position, height, width, font=\"NanumGothic\", font_size=6)\n",
    "        y_position = add_text_with_auto_pagination(pdf, doc.page_content, margin, y_position, height, width, font=\"NanumGothic\", font_size=6)\n",
    "\n",
    "        # Page Content와 Metadata 사이에 간격 추가\n",
    "        y_position -= 20  # 간격 추가\n",
    "\n",
    "        # Metadata 출력\n",
    "        y_position = add_text_with_auto_pagination(pdf, \"Metadata:\", margin, y_position, height, width, font=\"NanumGothic\", font_size=6)\n",
    "        for key, value in doc.metadata.items():\n",
    "            text = f\"{key}: {value}\"\n",
    "            y_position = add_text_with_auto_pagination(pdf, text, margin, y_position, height, width, font=\"NanumGothic\", font_size=6)\n",
    "\n",
    "        pdf.showPage()  # 각 문서마다 새 페이지 추가\n",
    "\n",
    "    pdf.save()\n",
    "\n",
    "# Call the function with your documents list\n",
    "file_name = \"./data/documents.pdf\"\n",
    "save_documents_to_pdf(documents, file_name)\n"
   ]
  },
  {
   "cell_type": "code",
   "execution_count": 4,
   "id": "61173aa5-28fc-4d6b-9745-829cd9b0aaf7",
   "metadata": {
    "tags": []
   },
   "outputs": [
    {
     "name": "stdout",
     "output_type": "stream",
     "text": [
      "WARNING 09-20 10:58:55 config.py:1651] Casting torch.bfloat16 to torch.float16.\n",
      "WARNING 09-20 10:58:55 config.py:330] bitsandbytes quantization is not fully optimized yet. The speed can be slower than non-quantized models.\n",
      "WARNING 09-20 10:58:55 config.py:425] CUDA graph is not supported on BitAndBytes yet, fallback to the eager mode.\n",
      "INFO 09-20 10:58:55 llm_engine.py:213] Initializing an LLM engine (v0.6.0) with config: model='./maywell/EXAONE-3.0-7.8B-Instruct-Llamafied', speculative_config=None, tokenizer='./maywell/EXAONE-3.0-7.8B-Instruct-Llamafied', skip_tokenizer_init=False, tokenizer_mode=auto, revision=None, override_neuron_config=None, rope_scaling=None, rope_theta=None, tokenizer_revision=None, trust_remote_code=True, dtype=torch.float16, max_seq_len=4096, download_dir=None, load_format=LoadFormat.BITSANDBYTES, tensor_parallel_size=1, pipeline_parallel_size=1, disable_custom_all_reduce=False, quantization=bitsandbytes, enforce_eager=True, kv_cache_dtype=auto, quantization_param_path=None, device_config=cuda, decoding_config=DecodingConfig(guided_decoding_backend='outlines'), observability_config=ObservabilityConfig(otlp_traces_endpoint=None, collect_model_forward_time=False, collect_model_execute_time=False), seed=0, served_model_name=./maywell/EXAONE-3.0-7.8B-Instruct-Llamafied, use_v2_block_manager=False, num_scheduler_steps=1, enable_prefix_caching=False, use_async_output_proc=True)\n",
      "INFO 09-20 10:58:55 selector.py:217] Cannot use FlashAttention-2 backend for Volta and Turing GPUs.\n",
      "INFO 09-20 10:58:55 selector.py:116] Using XFormers backend.\n"
     ]
    },
    {
     "name": "stderr",
     "output_type": "stream",
     "text": [
      "/home/eunchan93/miniconda3/envs/chan/lib/python3.11/site-packages/xformers/ops/fmha/flash.py:211: FutureWarning: `torch.library.impl_abstract` was renamed to `torch.library.register_fake`. Please use that instead; we will remove `torch.library.impl_abstract` in a future version of PyTorch.\n",
      "  @torch.library.impl_abstract(\"xformers_flash::flash_fwd\")\n",
      "/home/eunchan93/miniconda3/envs/chan/lib/python3.11/site-packages/xformers/ops/fmha/flash.py:344: FutureWarning: `torch.library.impl_abstract` was renamed to `torch.library.register_fake`. Please use that instead; we will remove `torch.library.impl_abstract` in a future version of PyTorch.\n",
      "  @torch.library.impl_abstract(\"xformers_flash::flash_bwd\")\n"
     ]
    },
    {
     "name": "stdout",
     "output_type": "stream",
     "text": [
      "INFO 09-20 10:58:57 model_runner.py:915] Starting to load model ./maywell/EXAONE-3.0-7.8B-Instruct-Llamafied...\n",
      "INFO 09-20 10:58:58 selector.py:217] Cannot use FlashAttention-2 backend for Volta and Turing GPUs.\n",
      "INFO 09-20 10:58:58 selector.py:116] Using XFormers backend.\n",
      "INFO 09-20 10:58:58 loader.py:916] Loading weights with BitsAndBytes quantization.  May take a while ...\n"
     ]
    },
    {
     "data": {
      "application/vnd.jupyter.widget-view+json": {
       "model_id": "edfbb3362a4f49ec9b649bd832ccae60",
       "version_major": 2,
       "version_minor": 0
      },
      "text/plain": [
       "Loading safetensors checkpoint shards:   0% Completed | 0/4 [00:00<?, ?it/s]\n"
      ]
     },
     "metadata": {},
     "output_type": "display_data"
    },
    {
     "name": "stdout",
     "output_type": "stream",
     "text": [
      "INFO 09-20 10:59:14 model_runner.py:926] Loading model weights took 4.9173 GB\n",
      "INFO 09-20 10:59:21 gpu_executor.py:122] # GPU blocks: 2879, # CPU blocks: 2048\n"
     ]
    }
   ],
   "source": [
    "from langchain_community.llms import VLLM\n",
    "\n",
    "llm = VLLM(\n",
    "    model=\"./maywell/EXAONE-3.0-7.8B-Instruct-Llamafied\",\n",
    "    trust_remote_code=True,  # mandatory for hf models\n",
    "    max_new_tokens=2048,\n",
    "    # top_k=10,\n",
    "    # top_p=0.95,\n",
    "    temperature=0.1,\n",
    "    dtype='float16',\n",
    "    vllm_kwargs={'quantization': \"bitsandbytes\", 'load_format': \"bitsandbytes\", 'gpu_memory_utilization': 0.4},\n",
    "    streaming=True\n",
    ")\n"
   ]
  },
  {
   "cell_type": "code",
   "execution_count": null,
   "id": "e82528ac-4474-4632-a245-b479143d04ee",
   "metadata": {},
   "outputs": [],
   "source": []
  },
  {
   "cell_type": "code",
   "execution_count": null,
   "id": "a1808c61-2bb4-42d6-a137-dbc7694e344e",
   "metadata": {},
   "outputs": [],
   "source": []
  },
  {
   "cell_type": "code",
   "execution_count": 5,
   "id": "c6299fcd-90d6-4411-8aee-ae73b954d4f1",
   "metadata": {},
   "outputs": [],
   "source": [
    "# BM25\n",
    "from langchain_community.retrievers import BM25Retriever\n",
    "bm25_retriever = BM25Retriever.from_documents(documents)"
   ]
  },
  {
   "cell_type": "code",
   "execution_count": 6,
   "id": "f47eb13e-12b4-4a15-a191-932a85c54554",
   "metadata": {},
   "outputs": [
    {
     "name": "stderr",
     "output_type": "stream",
     "text": [
      "/home/eunchan93/.cache/huggingface/modules/transformers_modules/nomic-ai/nomic-bert-2048/4bb68f63016e88e53e48df904c6ab4e6f718e198/modeling_hf_nomic_bert.py:98: FutureWarning: You are using `torch.load` with `weights_only=False` (the current default value), which uses the default pickle module implicitly. It is possible to construct malicious pickle data which will execute arbitrary code during unpickling (See https://github.com/pytorch/pytorch/blob/main/SECURITY.md#untrusted-models for more details). In a future release, the default value for `weights_only` will be flipped to `True`. This limits the functions that could be executed during unpickling. Arbitrary objects will no longer be allowed to be loaded via this mode unless they are explicitly allowlisted by the user via `torch.serialization.add_safe_globals`. We recommend you start setting `weights_only=True` for any use case where you don't have full control of the loaded file. Please open an issue on GitHub for any issues related to this experimental feature.\n",
      "  state_dict = loader(resolved_archive_file)\n",
      "WARNING:transformers_modules.nomic-ai.nomic-bert-2048.4bb68f63016e88e53e48df904c6ab4e6f718e198.modeling_hf_nomic_bert:<All keys matched successfully>\n"
     ]
    }
   ],
   "source": [
    "# Embedding\n",
    "from langchain_huggingface import HuggingFaceEmbeddings\n",
    "# https://huggingface.co/nomic-ai/nomic-embed-text-v1\n",
    "embed = HuggingFaceEmbeddings(model_name=\"nomic-ai/nomic-embed-text-v1\", model_kwargs={'trust_remote_code': True})"
   ]
  },
  {
   "cell_type": "code",
   "execution_count": 31,
   "id": "dfcff81d-75fb-4058-8f16-1f99f4b81b9c",
   "metadata": {},
   "outputs": [],
   "source": [
    "# Compressor(Combine)\n",
    "from langchain.vectorstores import Chroma\n",
    "from langchain_core.vectorstores import VectorStoreRetriever\n",
    "from langchain.retrievers.document_compressors import FlashrankRerank\n",
    "from langchain.retrievers import ContextualCompressionRetriever\n",
    "\n",
    "top_n = 5\n",
    "\n",
    "compressor = FlashrankRerank(top_n=top_n, model='ms-marco-MultiBERT-L-12')\n"
   ]
  },
  {
   "cell_type": "code",
   "execution_count": 8,
   "id": "44b02306-8339-44b9-a120-091d75584594",
   "metadata": {},
   "outputs": [
    {
     "name": "stderr",
     "output_type": "stream",
     "text": [
      "/tmp/ipykernel_6062/2903401351.py:8: DeprecationWarning: Retrievers must implement abstract `_get_relevant_documents` method instead of `get_relevant_documents`\n",
      "  class CombineRetriever(BaseRetriever):\n",
      "/tmp/ipykernel_6062/2903401351.py:8: DeprecationWarning: Retrievers must implement abstract `_aget_relevant_documents` method instead of `aget_relevant_documents`\n",
      "  class CombineRetriever(BaseRetriever):\n"
     ]
    }
   ],
   "source": [
    "from typing import List\n",
    "from langchain_core.retrievers import BaseRetriever\n",
    "from langchain_core.documents.base import Document\n",
    "from langchain_core.output_parsers import StrOutputParser\n",
    "from langchain_core.runnables import RunnableLambda\n",
    "\n",
    "\n",
    "class CombineRetriever(BaseRetriever):\n",
    "    retrievers = []\n",
    "\n",
    "    def get_relevant_documents(self, query: str) -> List[Document]:\n",
    "        results = []\n",
    "        for retriever in self.retrievers:\n",
    "            result = retriever.invoke(query)\n",
    "            results.extend(result)\n",
    "        return results\n",
    "\n",
    "    async def aget_relevant_documents(self, query: str) -> List[Document]:\n",
    "        results = []\n",
    "        for retriever in self.retrievers:\n",
    "            result = await retriever.ainvoke(query)\n",
    "            results.extend(result)\n",
    "        return results\n"
   ]
  },
  {
   "cell_type": "code",
   "execution_count": 9,
   "id": "869f82f5-fc10-49f3-9396-dda3bf2e53f7",
   "metadata": {},
   "outputs": [],
   "source": [
    "vectorstore = Chroma.from_documents(documents, embed)\n",
    "vector_retriever = VectorStoreRetriever(vectorstore=vectorstore)"
   ]
  },
  {
   "cell_type": "code",
   "execution_count": 10,
   "id": "8b552504-2eeb-477c-92dc-b40fd55df8a1",
   "metadata": {},
   "outputs": [],
   "source": [
    "combine_retriever = CombineRetriever(retrievers=[bm25_retriever, vector_retriever])"
   ]
  },
  {
   "cell_type": "code",
   "execution_count": 11,
   "id": "d1e3c622-3502-4c1e-b2af-60207d89c466",
   "metadata": {},
   "outputs": [],
   "source": [
    "compression_retriever = ContextualCompressionRetriever(\n",
    "    base_compressor=compressor, base_retriever=combine_retriever\n",
    ")"
   ]
  },
  {
   "cell_type": "code",
   "execution_count": 12,
   "id": "7477bc26-2779-4052-b81a-8b458508ecfd",
   "metadata": {},
   "outputs": [],
   "source": [
    "def format_docs(docs):\n",
    "    reference = []\n",
    "    page_start = \"\\n=== 참고 페이지: {} begin\\n\"\n",
    "    page_end = \"\\n=== 참고 페이지: {} end\\n\"\n",
    "    for idx, doc in enumerate(docs):\n",
    "        reference.append(page_start.format(str(idx + 1)) + doc.page_content + page_end.format(str(idx + 1)))\n",
    "\n",
    "    return \"\\n\\n\".join(doc for doc in reference)"
   ]
  },
  {
   "cell_type": "code",
   "execution_count": 13,
   "id": "70a71541-eed6-4f3f-8dca-a2d590748c22",
   "metadata": {},
   "outputs": [],
   "source": [
    "from transformers import AutoTokenizer\n",
    "\n",
    "tokenizer = AutoTokenizer.from_pretrained(\"./maywell/EXAONE-3.0-7.8B-Instruct-Llamafied\")"
   ]
  },
  {
   "cell_type": "code",
   "execution_count": 14,
   "id": "225f6ee2-e31c-4ae0-ab97-3cbf35465061",
   "metadata": {},
   "outputs": [],
   "source": [
    "rag_prompt = \"\"\"You are an assistant for question-answering tasks.\n",
    "a veterinarian who majored in veterinary medicine.\n",
    "Use the following pieces of retrieved context to answer the question. \n",
    "If you don't know the answer, just say that you don't know.\n",
    "Please keep the english terminology and drug names and medical words.\n",
    "Please provide any other explanations in korean.\n",
    "Please present the same context only once.\n",
    "\n",
    "<attention>\n",
    "제공된 컨텍스트에 자료가 없다면 답변을 못한다고 하십시오.\n",
    "When responding, please explain which page of the referenced context you are referring to.\n",
    "The number should only include one specific page referenced. \n",
    "However, if multiple pages are referenced, refer to the next reference page using the word 참고 페이지: separated by commas.\n",
    "When you finish explaining a specific topic, please leave the page number you are referencing.\n",
    "Please provide references and evidence for each answer.\n",
    "Please follow the example in the output example.\n",
    "Please fill out the contents in abundance based on facts.\n",
    "The given context numbers are a total of 1 to {top_n}.\n",
    "</attention>\n",
    "\n",
    "<write_reference>\n",
    "참고 페이지: number\n",
    "</write_reference>\n",
    "\n",
    "<writing_style>\n",
    "Kind, Warm, Academic, Little shortly\n",
    "</writing_style>\n",
    "\n",
    "<output_example>\n",
    "크론병(Crohn's Disease, CD)을 치료하기 위한 방법은 여러 가지가 있습니다. 다음은 주요 치료 방법들입니다:\n",
    "\n",
    "1. 글루코코르티코이드(Glucocorticoids):\n",
    "중등도에서 중증 크론병에 효과적이며, 60-70%의 관해를 유도합니다. 부데소나이드(Budesonide)는 부작용이 적어 선호됩니다. 그러나 유지 요법으로는 사용되지 않습니다. (참고 페이지: 1)\n",
    "\n",
    "Blah blah ...\n",
    "</output_example>\n",
    "\n",
    "<context>\n",
    "{context}\n",
    "</context>\n",
    "\"\"\""
   ]
  },
  {
   "cell_type": "code",
   "execution_count": 15,
   "id": "f072b53f-f679-4152-ada8-c8a61ba564ca",
   "metadata": {},
   "outputs": [],
   "source": [
    "def apply_chat_for_rag(inputs):\n",
    "    context = format_docs(inputs['context'])\n",
    "    chat = [{'role': 'system', 'content': rag_prompt.format(context=context, top_n=str(top_n))},\n",
    "           {'role': 'user', 'content': f\"{inputs['question']}\"}]\n",
    "    #print(chat)\n",
    "    #print(f\"{inputs['question']}\")\n",
    "    chat_template = tokenizer.apply_chat_template(chat, tokenize=False, add_generation_prompt=True)\n",
    "    answer = llm.invoke(chat_template)\n",
    "    return {\"documents\": inputs['context'], \"answer\": answer}"
   ]
  },
  {
   "cell_type": "code",
   "execution_count": null,
   "id": "29ee6441-49e7-4adf-a8eb-febf18428f02",
   "metadata": {},
   "outputs": [],
   "source": []
  },
  {
   "cell_type": "code",
   "execution_count": 17,
   "id": "bfb2fa06-3f91-4439-9131-c97b36d24e33",
   "metadata": {},
   "outputs": [],
   "source": [
    "from IPython.display import display, HTML\n",
    "import markdown\n",
    "\n",
    "def create_interactive_text(main_text, clickable_dict):\n",
    "    # main_text를 마크다운에서 HTML로 변환\n",
    "    main_text_html = markdown.markdown(main_text)\n",
    "    \n",
    "    # main_text에서 클릭 가능한 부분을 HTML로 변환\n",
    "    for key, value in clickable_dict.items():\n",
    "        details_html = f'<details><summary>{key}</summary>{markdown.markdown(value)}</details>'\n",
    "        main_text_html = main_text_html.replace(f\"{{{{{key}}}}}\", details_html)\n",
    "    \n",
    "    # 최종 HTML 출력\n",
    "    display(HTML(main_text_html))"
   ]
  },
  {
   "cell_type": "code",
   "execution_count": 18,
   "id": "7ebbe9b9-1a2a-45d9-b8a1-a3bf50be4437",
   "metadata": {},
   "outputs": [],
   "source": [
    "from operator import itemgetter"
   ]
  },
  {
   "cell_type": "code",
   "execution_count": 19,
   "id": "36810b8c-8110-4cab-8768-43b0d0049888",
   "metadata": {},
   "outputs": [],
   "source": [
    "rag_chain = ({\"context\": itemgetter('question') | compression_retriever,\n",
    "             \"question\": itemgetter('question')} | RunnableLambda(apply_chat_for_rag))"
   ]
  },
  {
   "cell_type": "code",
   "execution_count": 20,
   "id": "7bf1f8ca-2f35-48d3-a330-f05c3ee53a2f",
   "metadata": {},
   "outputs": [],
   "source": [
    "def run(text):\n",
    "    result = rag_chain.invoke({\"question\": text})\n",
    "    target_docs = {f\"참고 페이지: {i + 1}\": doc.page_content for i, doc in enumerate(result['documents'])}\n",
    "    for replace_text in target_docs.keys():\n",
    "        result['answer'] = result['answer'].replace(replace_text, f\"{{{replace_text}}}\")\n",
    "        result['answer'] = result['answer'].replace(replace_text, f\"{{{replace_text}}}\")\n",
    "    return create_interactive_text(result['answer'], target_docs)"
   ]
  },
  {
   "cell_type": "code",
   "execution_count": 37,
   "id": "7a05b8d8-04a8-408c-9e26-b70588018fbf",
   "metadata": {},
   "outputs": [],
   "source": [
    "kor_questions = [\n",
    "\"갑상선 기능 저하증의 증상은 무엇인가요?\",\n",
    "\"강아지에서 파보바이러스 감염증을 어떻게 치료할 수 있나요?\",\n",
    "\"개 디스템퍼의 원인은 무엇인가요?\",\n",
    "\"고양이 백혈병을 예방하기 위해 어떤 예방 조치를 취할 수 있나요?\",\n",
    "\"고양이에서 갑상선 기능 항진증의 흔한 증상은 무엇인가요?\",\n",
    "\"개 코로나바이러스 감염증이 개에게 어떤 영향을 미치나요?\",\n",
    "\"개 디스템퍼의 치료 옵션은 무엇인가요?\",\n",
    "\"개 아데노바이러스 감염증의 정의는 무엇인가요?\",\n",
    "\"개가 일반적인 질병으로부터 보호받기 위해 사용할 수 있는 예방 백신은 무엇이 있나요?\",\n",
    "\"고양이가 고양이 면역 결핍 바이러스(FIV) 증상을 보일 때 권장되는 조치는 무엇인가요?\"\n",
    "]"
   ]
  },
  {
   "cell_type": "code",
   "execution_count": 24,
   "id": "d0fc7a4d-72e7-43b6-bc49-21f78c88c068",
   "metadata": {},
   "outputs": [
    {
     "name": "stderr",
     "output_type": "stream",
     "text": [
      "INFO:backoff:Backing off send_request(...) for 0.8s (requests.exceptions.ConnectionError: HTTPSConnectionPool(host='us.i.posthog.com', port=443): Max retries exceeded with url: /batch/ (Caused by NameResolutionError(\"<urllib3.connection.HTTPSConnection object at 0x7f0b64410090>: Failed to resolve 'us.i.posthog.com' ([Errno -3] Temporary failure in name resolution)\")))\n",
      "INFO:backoff:Backing off send_request(...) for 1.5s (requests.exceptions.ConnectionError: HTTPSConnectionPool(host='us.i.posthog.com', port=443): Max retries exceeded with url: /batch/ (Caused by NameResolutionError(\"<urllib3.connection.HTTPSConnection object at 0x7f10a00dfbd0>: Failed to resolve 'us.i.posthog.com' ([Errno -3] Temporary failure in name resolution)\")))\n",
      "Processed prompts: 100%|██████████| 1/1 [00:21<00:00, 21.71s/it, est. speed input: 122.34 toks/s, output: 19.76 toks/s]\n"
     ]
    },
    {
     "data": {
      "text/html": [
       "<p>강아지에서 파보바이러스 감염증(Parvovirus Infection)을 치료하는 방법에 대해 설명드리겠습니다. 이 정보는 참고 페이지 2번에서 발췌한 내용을 기반으로 합니다.</p>\n",
       "<h3>파보바이러스 감염증의 치료</h3>\n",
       "<ol>\n",
       "<li><strong>입원 및 관찰</strong>:</li>\n",
       "<li>\n",
       "<p>감염된 강아지는 입원이 필요하며, 상태를 지속적으로 모니터링해야 합니다.</p>\n",
       "</li>\n",
       "<li>\n",
       "<p><strong>수액 요법</strong>:</p>\n",
       "</li>\n",
       "<li>\n",
       "<p>탈수를 방지하기 위해 충분한 수액을 공급합니다.</p>\n",
       "</li>\n",
       "<li>\n",
       "<p><strong>항바이러스제</strong>:</p>\n",
       "</li>\n",
       "<li>\n",
       "<p>현재 파보바이러스에 대한 특정 항바이러스제가 없기 때문에 증상 완화를 목표로 합니다.</p>\n",
       "</li>\n",
       "<li>\n",
       "<p><strong>항생제</strong>:</p>\n",
       "</li>\n",
       "<li>\n",
       "<p>세균 감염을 예방하거나 치료하기 위해 광범위 항생제를 사용할 수 있습니다.</p>\n",
       "</li>\n",
       "<li>\n",
       "<p><strong>지지 요법</strong>:</p>\n",
       "</li>\n",
       "<li>영양 보충: 식욕이 없는 경우 강제로 먹이를 공급할 수 있습니다.</li>\n",
       "<li>전해질 균형 유지: 전해질 불균형을 교정하기 위해 전해질 용액을 투여합니다.</li>\n",
       "<li>\n",
       "<p>통증 관리: 필요 시 진통제를 사용할 수 있습니다.</p>\n",
       "</li>\n",
       "<li>\n",
       "<p><strong>면역 강화</strong>:</p>\n",
       "</li>\n",
       "<li>강아지의 면역 체계를 강화하기 위해 비타민과 미네랄 보충제를 사용할 수 있습니다.</li>\n",
       "</ol>\n",
       "<h3>참고 페이지 2번의 주요 내용</h3>\n",
       "<ul>\n",
       "<li><strong>원인</strong>: 파보바이러스는 주로 감염된 개와의 접촉을 통해 전파됩니다.</li>\n",
       "<li><strong>증상</strong>: 구토, 식욕 부진, 무기력, 발열, 설사 등이 나타납니다.</li>\n",
       "<li><strong>진단</strong>: 바이러스를 분리하거나 PCR 검사를 통해 진단합니다.</li>\n",
       "</ul>\n",
       "<h3>주의사항</h3>\n",
       "<ul>\n",
       "<li>파보바이러스는 매우 전염성이 강하므로 감염된 개와의 접촉을 피해야 합니다.</li>\n",
       "<li>치료 중에도 감염된 개는 다른 동물에게 바이러스를 전파할 수 있으므로 격리가 필요합니다.</li>\n",
       "</ul>\n",
       "<p>이와 같은 치료 방법을 통해 파보바이러스 감염증을 관리할 수 있지만, 조기에 발견하고 적절한 조치를 취하는 것이 중요합니다.</p>"
      ],
      "text/plain": [
       "<IPython.core.display.HTML object>"
      ]
     },
     "metadata": {},
     "output_type": "display_data"
    }
   ],
   "source": [
    "run(kor_questions[1])"
   ]
  },
  {
   "cell_type": "code",
   "execution_count": 39,
   "id": "7ee77865-b57c-4e3a-bb0b-fdca3fccbccb",
   "metadata": {},
   "outputs": [
    {
     "name": "stderr",
     "output_type": "stream",
     "text": [
      "Processed prompts: 100%|██████████| 1/1 [00:17<00:00, 17.20s/it, est. speed input: 69.53 toks/s, output: 21.97 toks/s]\n"
     ]
    },
    {
     "data": {
      "text/html": [
       "<p>개 디스템퍼(Canine Distemper)의 원인에 대해 설명드리겠습니다.</p>\n",
       "<p>개 디스템퍼의 주요 원인은 다음과 같습니다:</p>\n",
       "<ol>\n",
       "<li>\n",
       "<p><strong>바이러스</strong>: 개 디스템퍼는 파보바이러스(Pavovirus)에 의해 발생합니다. 이 바이러스는 호흡기 및 위장관에 영향을 미치며, 감염된 동물의 체액을 통해 전파됩니다.</p>\n",
       "</li>\n",
       "<li>\n",
       "<p><strong>전파 경로</strong>:</p>\n",
       "</li>\n",
       "<li><strong>공기 전파</strong>: 감염된 동물이 기침이나 재채기를 할 때 바이러스가 공기 중으로 퍼질 수 있습니다.</li>\n",
       "<li><strong>직접 접촉</strong>: 감염된 동물과의 직접적인 접촉을 통해 바이러스가 전파될 수 있습니다.</li>\n",
       "<li>\n",
       "<p><strong>오염된 물체</strong>: 감염된 동물의 침이나 분비물이 묻은 물체를 다른 동물이 접촉할 경우 전파될 수 있습니다.</p>\n",
       "</li>\n",
       "<li>\n",
       "<p><strong>증상</strong>: 개 디스템퍼에 감염되면 다음과 같은 증상이 나타날 수 있습니다:</p>\n",
       "</li>\n",
       "<li>발열</li>\n",
       "<li>기침</li>\n",
       "<li>콧물</li>\n",
       "<li>눈의 염증 및 발적</li>\n",
       "<li>피부 발진</li>\n",
       "<li>구토 및 설사</li>\n",
       "<li>무기력</li>\n",
       "<li>\n",
       "<p>신경학적 증상 (경련, 균형 상실 등)</p>\n",
       "</li>\n",
       "<li>\n",
       "<p><strong>예방</strong>:</p>\n",
       "</li>\n",
       "<li><strong>백신 접종</strong>: 개 디스템퍼 백신을 정기적으로 접종하여 예방할 수 있습니다.</li>\n",
       "<li><strong>위생 관리</strong>: 감염된 동물과의 접촉을 피하고, 감염 의심 시 즉시 수의사에게 상담합니다.</li>\n",
       "</ol>\n",
       "<p><details><summary>참고 페이지: 3</summary><pre><code>Difine:  편도염은 개에서 흔하고 고양이에서는 드물다.  만약 단측성이면, 이물일 가능성이 높다. 가끔 이차적으로 만성 구토, 기침 또는 코인두(구개열 등)의 오연을 유발할 수 있다. 원발성 편도염은 어리고 작은 종의 개에서 다발한다. 인두 방어계의 성숙과 관련되어 있을 수 있다. 가끔 재발성이다. 편도의 비대를 일으킬 수 있는 편평상피종과 림프육종과는 구별되어야 한다. 드물게 심각한 증례는 상부기도의 공기흐름과 연하를 방해할 수 있다. 구개편도낭 개에 야기한다.\n",
       "===\n",
       "Disease name: 편도염, 편도낭(Tonsillitis or tonsillar cyst in dogs and cats)\n",
       "===\n",
       "Target Animals: 개, 고양이\n",
       "===\n",
       "Cause: nan\n",
       "===\n",
       "Disease Now: nan\n",
       "===\n",
       "Condition:  과도한 침흘림 | 구역질 | 구토 | 기침 | 눈물흘림 | 눈의 화농성 분비물 | 다호흡 | 떨림 | 무기력 | 발열 | 상부기도의 비정상 호흡음 | 식욕부진 | 연하곤란 | 인두 , 후두 , 기관의 통증 | 인두의 홍반 , 발적 | 점액양 비강 분비물 | 화농성 비강 분비물 | 후두 , 기관 , 인두의 종창 |\n",
       "===\n",
       "Jindan: nan\n",
       "===\n",
       "Opinion: nan\n",
       "===\n",
       "Treatment: nan\n",
       "===\n",
       "Advice: nan\n",
       "</code></pre></details></p>\n",
       "<p>개 디스템퍼는 매우 전염성이 강하고 치명적일 수 있으므로, 조기에 발견하고 치료하는 것이 중요합니다. 백신 접종을 통해 예방하는 것이 가장 효과적인 방법입니다.</p>"
      ],
      "text/plain": [
       "<IPython.core.display.HTML object>"
      ]
     },
     "metadata": {},
     "output_type": "display_data"
    }
   ],
   "source": [
    "run(kor_questions[2])"
   ]
  },
  {
   "cell_type": "code",
   "execution_count": 33,
   "id": "f6a671d3-5032-4a29-a6bd-d1614f339f80",
   "metadata": {},
   "outputs": [],
   "source": [
    "q1 = '분리불안 고치는 법 좀 알려주세요ㅠ'"
   ]
  },
  {
   "cell_type": "code",
   "execution_count": 34,
   "id": "f4d3d766-3598-4594-be63-f5a3f8641e79",
   "metadata": {},
   "outputs": [
    {
     "name": "stderr",
     "output_type": "stream",
     "text": [
      "Processed prompts: 100%|██████████| 1/1 [00:28<00:00, 28.60s/it, est. speed input: 96.90 toks/s, output: 20.81 toks/s]\n"
     ]
    },
    {
     "data": {
      "text/html": [
       "<p>개의 분리불안을 해결하는 방법에 대해 설명드리겠습니다. 이 정보는 참고 페이지 1의 내용을 기반으로 합니다.</p>\n",
       "<ol>\n",
       "<li>초기 진단:</li>\n",
       "<li>분리불안은 개에게 흔한 문제입니다. 원인은 다양할 수 있으며, 주로 주인과의 이별에 대한 스트레스에서 비롯됩니다.</li>\n",
       "<li>\n",
       "<p>정확한 진단을 위해 수의사와 상담하는 것이 중요합니다.</p>\n",
       "</li>\n",
       "<li>\n",
       "<p>기본 관리:</p>\n",
       "</li>\n",
       "<li><strong>환경 안정화</strong>: 개가 편안하게 느낄 수 있는 환경을 조성해 주세요.</li>\n",
       "<li>\n",
       "<p><strong>규칙적인 일상</strong>: 규칙적인 식사와 산책 시간을 유지하여 개가 예측 가능한 일상을 경험하도록 합니다.</p>\n",
       "</li>\n",
       "<li>\n",
       "<p>행동 교정:</p>\n",
       "</li>\n",
       "<li><strong>긍정적 강화</strong>: 좋은 행동을 보일 때마다 칭찬과 간식을 주어 긍정적인 행동을 강화합니다.</li>\n",
       "<li><strong>분리 연습</strong>: 짧은 시간 동안 개를 혼자 두는 연습을 서서히 늘려갑니다. 처음에는 짧은 시간, 점차적으로 시간을 늘려가세요.</li>\n",
       "<li>\n",
       "<p><strong>안전한 공간 제공</strong>: 개가 혼자 있을 때 편안하게 쉴 수 있는 안전한 공간을 마련해 주세요.</p>\n",
       "</li>\n",
       "<li>\n",
       "<p>훈련 방법:</p>\n",
       "</li>\n",
       "<li><strong>'기다려' 훈련</strong>: 개에게 '기다려' 명령을 가르치고, 짧은 시간 동안 혼자 있게 한 후 보상을 줍니다.</li>\n",
       "<li>\n",
       "<p><strong>'앉아', '손' 훈련</strong>: 기본 복종 훈련을 통해 개가 주인의 명령에 잘 따르도록 합니다.</p>\n",
       "</li>\n",
       "<li>\n",
       "<p>약물 치료:</p>\n",
       "</li>\n",
       "<li>\n",
       "<p>심각한 경우, 수의사와 상담하여 약물 치료를 고려할 수 있습니다. 그러나 약물은 최후의 수단으로 사용해야 합니다.</p>\n",
       "</li>\n",
       "<li>\n",
       "<p>전문가 상담:</p>\n",
       "</li>\n",
       "<li>\n",
       "<p>분리불안이 심각한 경우, 동물행동전문가나 트레이너의 도움을 받는 것이 좋습니다.</p>\n",
       "</li>\n",
       "<li>\n",
       "<p>예방 조치:</p>\n",
       "</li>\n",
       "<li><strong>여행 준비</strong>: 주인이 집을 떠날 때 미리 준비하여 개의 스트레스를 줄입니다.</li>\n",
       "<li>\n",
       "<p><strong>소음 최소화</strong>: 주인이 집을 떠날 때 소음을 최소화하여 갑작스러운 변화를 줄입니다.</p>\n",
       "</li>\n",
       "<li>\n",
       "<p>기타 팁:</p>\n",
       "</li>\n",
       "<li><strong>장난감 제공</strong>: 개가 혼자 있을 때 지루하지 않도록 장난감을 제공합니다.</li>\n",
       "<li><strong>음악 재생</strong>: 부드러운 음악을 틀어 개가 안정감을 느끼도록 합니다.</li>\n",
       "</ol>\n",
       "<p>이 방법들을 꾸준히 실천하면 개의 분리불안을 줄이는 데 도움이 될 수 있습니다. 중요한 것은 개가 혼자 있는 시간을 서서히 늘려가며, 주인의 부재에 대한 긍정적인 경험을 쌓도록 도와주는 것입니다.</p>\n",
       "<p><details><summary>참고 페이지: 1</summary><pre><code>Difine: 확실한 원인이 밝혀지지 않은 질병으로서 개에서 심급성으로 발생하여 심각한 출혈성 설사, 혈액농축, 구토를 유발하며 장강내로의 과도한 전해질과 수분의 손실로 인해 저혈압성 쇽 등을 유발하는 질병\n",
       "===\n",
       "Disease name: 출혈성 위장염, 개(Canine hemorrhagic gastroenteritis : HGE)\n",
       "===\n",
       "Target Animals: 개\n",
       "===\n",
       "Cause: # 원인체는 알려지지 않음# HGE에 이환된 개에서 clostridium perfringens를 분리배양했으나 임상적 의의를 확실히 밝히지는 못함# toxigenic Escherichia coli의 연관성을 연구했으나 성과는 없었음# 대부분의 개는 발병이전에 중요한 병력이 없이 건강함\n",
       "===\n",
       "Disease Now: # 전신적인 영향: 위장관계, 심혈관계# 유전적 인자: 확실하지는 않으며, 몇몇 종에서는 발생빈도가 좀 더 높음# 지리적인 분포양상:  일반적으로 도시에서의 발생빈도가 높음# 호발동물:  개(미니어처 슈나우져, 닥스훈트, 요크셔 테리어, 미니어처 푸들)# 견종별 감수성: 모든 견종이 걸릴수 있으며, 발생율은 소형견종에서 상당히 높음# 발생연령: 3-5세# 성별 감수성은 없음\n",
       "===\n",
       "Condition:  | 구강점막의 울혈 , 홍반 , 발적 | 구토 | 급사 , 돌연사 | 모세혈관 재충만 시간 지연 | 무기력 , 침울 , 졸림 , 생기없음 | 복강 외부 압박에 따른 통증 | 분변 냄새의 이상 | 분변 색깔이 진함 , 암흑색 분변 | 산통 , 복통 | 설사 , 하리 | 식욕부진 , 식욕감소 , 식욕절폐 , 젖을 안먹임 , 먹이 공급 중단 | 심방 빈맥 , 빈박 | 심방 빈맥 , 빈박 | 심실 기외 수축 , 다발성 혹은 단발성 | 점막 , 피부 창백 , 빈혈 | 점상 또는 반상출혈 , 타박상 | 탈수 | 토혈증 | 혈변 , 분변내 잠혈 | 혈변 | 혼수 , 혼미\n",
       "===\n",
       "Jindan: [일반적 유의사항]# 수의사에게 발견되는 임상형은 질병의 경과와 심각성에 따라서 다양함# 일반적으로 심급성형이며 저혈압성 쇽과 병발하여 나타남 # 대부분의 환축은 이환되기전에 건강하였으며, 의심할만한 환경적인 변화는 없었음 [물리적 검사]# 환축은 침울하고, 허약하며, 모세혈관 혈액충만시간의 지연과 약한 맥박을 보임# 탈수에 대한 반응으로서의 피부의 긴장감은 질병의 심급성형 경과로 인하여 정상임. (체액의 큰 손실을 일으키기엔 부족한 시간)# 복부촉진시 고통스러워 하며, 물로 가득찬 주전자같은 느낌이 남# 항문검사결과 혈액성 설사를 확인할 수 있으며, 질병의 경과후에는 나무 딸기 잼 모양의 변으로 발달# 때때로 발열이 있지만 대부분의 경우 체온은 정상이거나 정상이하임 [전혈구계산/생화학적 검사/뇨분석]# 혈액응축: PCV60%이상에서 75%사이 (특징적 증세)# 생화학적 수치에서 이차적인 간 효소의 증가와 전신장성 고질소혈증에 기인하는 고BUN수치가 나타남[기타 실험실 검사] # 분변검사-기생충에 대해서 음성 -Parvovirus에 대한 ELISA음성    -분변내 세포: 많은 적혈구와 소량의 백혈구가 관찰되며 C. perfringen의 아포가 관찰되기도 함    -Clostridium이 많이 배양되나 다른 장병원성의 균주는 배양되지 않음  [응고반응]    거의 정상으로 나타나며, 가끔씩 이차적으로 파종성혈관내응고가 나타나기도 함[방사선 소견]    - 복부방사선 사진에서 소장과 대장에서 액체와 가스의 음영을 볼 수  있음\n",
       "===\n",
       "Opinion: nan\n",
       "===\n",
       "Treatment:  [적절한 치료 방향]-   이환되어 내원한 환축은 일단 HGE에 유념하고 주의깊게 치료하여야 함.-   임상증세의 악화는 급속하고 치명적일 수 있음 [처치]- 이환된 모든 환축에 대해 수액요법실시- 수액은 40-60mL/kg/h IV로서 주사하며, PCV가 50%이하가 될 때까지      주사함-  순환기계의 기능유지를 위해서 지속적으로 적절히 수액을 해주며, 부족한 전해질은 보충해주어야 함 [환축관리] 격리시키며 급성의 질병경과시에는 절식을 시키고 회복기에는 부드럽고, 저지방, 저섬유질의 식사급여 [약물치료]# C. perfringens등의로 인한 패혈증 방지를 위한 항생제 투여, ampicillin(10-20mg/kg 정맥주사, 6-8시간간격), 그외 trimethoprimsulfa, cephalosporins 가능# 패혈증시: ampicillin에 합제로서 aminoglycoside(gentamycin, 6-10mg/kg 정맥주사, 24시간 간격), fluoroquinolone(enrofloxacin, 5-10 mg/kg 24시간 간격)# 쇽일때: short-acting glucocorticoids( dexamethasone sodium phosphate 0.5-1.0 mg/kg 정맥주사)# 과도한 혈액손실시에는 적당한 양의 수혈 [약물치료시 유의사항]# aminoglycoside 항생제의 사용시에는 신중하게 사용해야함# 잠재적 신장독성의 위험이 있기 때문에 탈수나 신장기능의 이상이 있을 때에는 사용하면 안됨# 구강투여용 항생제와 위장보호제는 효과가 거의 없음# 직장투여용 점막 보호제의 효과 미미함# 항구토제의 투여가능(과도한 탈수의 방지)# 장연동운동 감소제의 투여금지  # PCV는 적어도 4-6시간마다 점검을 해야함# PCV의 결과에 따라서 수액의 양을 조절하며, 이 질병의 경우 지속적인 장관내 수분손실의 보충과 순환계의 유지를 위해서 지속적 수액실시# 치료후 24-48시간 이내에 증세가 호전되지 않으면 환축의 상태를 다시 검사해서 다른 질병과 감별진단 해야함# 드물게 파종성 혈관내 응고와 신경증세, 그리고 혈액농축으로 인한 경련이 발생# 심근의 손상으로 인한 심실쇄동이 발생\n",
       "===\n",
       "Advice: # 이환된 환축은 회복이 될 때까지는 항상 즉각적이고, 적극적인 치료를 받을 수 있도록 신경써야함# 적절한 치료를 할 경우에 치료율은 비교적 높으며 치사율은 비교적 낮음# 재발율은 10%로서 낮은 편임\n",
       "</code></pre></details></p>\n",
       "<p>이 정보가 도움이 되길 바랍니다. 추가적인 질문이 있으시면 언제든지 말씀해 주세요!</p>"
      ],
      "text/plain": [
       "<IPython.core.display.HTML object>"
      ]
     },
     "metadata": {},
     "output_type": "display_data"
    }
   ],
   "source": [
    "run(q1)"
   ]
  },
  {
   "cell_type": "code",
   "execution_count": 30,
   "id": "c7bf0d10-2cc1-4801-88b5-675e3709fd1d",
   "metadata": {},
   "outputs": [
    {
     "data": {
      "text/plain": [
       "Document(metadata={'disease_name': '코로나 바이러스 감염증, 개(Canine Coronavirus Infection)', 'animal': '개', 'cause': 'canine coronavirus ', 'define': '개 코로나 바이러스(CCV)에 의해 발생하며 구토와 설사를 수반하는 장염을 유발하는 질병', 'disease_now': '# 성견에서는 불현성 감염이나 경미한 임상증상을 보이나 자견에서는 녹황색에서 담적색의 설사와 함께 급사하기도 함. 모든 연령과 품종에서 발생# 일차적인 전파는 분변에 의해 일어나며 약2주간 분변으로 바이러스 배출# 잠복기는 1-3일# 바이러스혈증이나 전신적 질환은 나타나지 않음# 야생 개과에서도 발생, 전염성이 매우 강하며 전 세계적으로 만연된 질병으로 그 증상이 CPV-2와 유사함.# 고양이에서는 불현성 감염을 일으킴# 집에서 키우는 동물 및 야생동물 모두 감염될 수 있음', 'condition': ' | 구토 | 무기력 , 침울 , 졸림 , 생기없음 | 발열 , 고열 | 분변 냄새의 이상 | 설사 , 하리 | 식욕부진 , 식욕감소 , 식욕절폐 , 젖을 안먹임 , 먹이 공급 중단 | 점액변 , 점액양분변 | 탈수 | 혈변 ', 'jindan': '혈청학적 진단, 바이러스 분리, 면역형광검사, 전자현미경, PCR(급성기)', 'opinion': '[임상병리소견]  PCV증가, CPV와 달리 백혈구 감소가 관찰되지 않음 [병리해부소견]  소장점막의 심한 충·출혈 및 장간막 림프절의 종대 및 충혈[병리조직소견]  소장 융모의 위축과 융합, 고유판 세포수의 증가, 상피세포의 편평화와 술잔세포 증가가 특징적', 'treatment': \"# 치료하지 않아도 회복되는 경우도 있으나 심할 경우 대증요법 외에 특별한 치료법 없음  -수액: lactated ringer's 용액, 80-90ml/kg/h을 투여후 배뇨하면 dextrose ringer 용액(10ml/kg/h) 투여  -항생제: ampicillin 10-20mg/kg, 1일 3회, 경구투여\", 'advice': '# CCV는 백신후 면역력 획득이 좋으므로 백신이 매우 중요함# 치료후 10-12일간 설사가 지속될수 있으며, 다시 재발할 수 있음# 개집을 깨끗이 청소하고 소독할 것# 기타'}, page_content=\"\\n    Difine: 개 코로나 바이러스(CCV)에 의해 발생하며 구토와 설사를 수반하는 장염을 유발하는 질병\\n    ===\\n    Disease name: 코로나 바이러스 감염증, 개(Canine Coronavirus Infection)\\n    ===\\n    Target Animals: 개\\n    ===\\n    Cause: canine coronavirus \\n    ===\\n    Disease Now: # 성견에서는 불현성 감염이나 경미한 임상증상을 보이나 자견에서는 녹황색에서 담적색의 설사와 함께 급사하기도 함. 모든 연령과 품종에서 발생# 일차적인 전파는 분변에 의해 일어나며 약2주간 분변으로 바이러스 배출# 잠복기는 1-3일# 바이러스혈증이나 전신적 질환은 나타나지 않음# 야생 개과에서도 발생, 전염성이 매우 강하며 전 세계적으로 만연된 질병으로 그 증상이 CPV-2와 유사함.# 고양이에서는 불현성 감염을 일으킴# 집에서 키우는 동물 및 야생동물 모두 감염될 수 있음\\n    ===\\n    Condition:  | 구토 | 무기력 , 침울 , 졸림 , 생기없음 | 발열 , 고열 | 분변 냄새의 이상 | 설사 , 하리 | 식욕부진 , 식욕감소 , 식욕절폐 , 젖을 안먹임 , 먹이 공급 중단 | 점액변 , 점액양분변 | 탈수 | 혈변 \\n    ===\\n    Jindan: 혈청학적 진단, 바이러스 분리, 면역형광검사, 전자현미경, PCR(급성기)\\n    ===\\n    Opinion: [임상병리소견]  PCV증가, CPV와 달리 백혈구 감소가 관찰되지 않음 [병리해부소견]  소장점막의 심한 충·출혈 및 장간막 림프절의 종대 및 충혈[병리조직소견]  소장 융모의 위축과 융합, 고유판 세포수의 증가, 상피세포의 편평화와 술잔세포 증가가 특징적\\n    ===\\n    Treatment: # 치료하지 않아도 회복되는 경우도 있으나 심할 경우 대증요법 외에 특별한 치료법 없음  -수액: lactated ringer's 용액, 80-90ml/kg/h을 투여후 배뇨하면 dextrose ringer 용액(10ml/kg/h) 투여  -항생제: ampicillin 10-20mg/kg, 1일 3회, 경구투여\\n    ===\\n    Advice: # CCV는 백신후 면역력 획득이 좋으므로 백신이 매우 중요함# 치료후 10-12일간 설사가 지속될수 있으며, 다시 재발할 수 있음# 개집을 깨끗이 청소하고 소독할 것# 기타\\n    \")"
      ]
     },
     "execution_count": 30,
     "metadata": {},
     "output_type": "execute_result"
    }
   ],
   "source": [
    "documents[2]"
   ]
  },
  {
   "cell_type": "code",
   "execution_count": null,
   "id": "248eb6fa-0132-45b4-8c5d-6b05dfa0c399",
   "metadata": {},
   "outputs": [],
   "source": []
  },
  {
   "cell_type": "code",
   "execution_count": 4,
   "id": "6cc4426d-a38e-4699-bbca-d08b51abf50f",
   "metadata": {},
   "outputs": [],
   "source": [
    "# Example questions for testing the RAG system\n",
    "eng_questions = [\n",
    "    \"What are the symptoms of Hypothyroidism in dogs? launguage is korean\",\n",
    "    \"How can I treat Parvoviral Infection in puppies? launguage is korean\",\n",
    "    \"What is the cause of Canine Distemper? launguage is korean\" ,\n",
    "    \"Which preventive measures can be taken to avoid Feline Leukemia? launguage is korean\",\n",
    "    \"What are the common signs of Hyperthyroidism in cats? launguage is korean\",\n",
    "    \"How does Canine Coronavirus Infection affect dogs? launguage is korean\",\n",
    "    \"What are the treatment options for Canine Distemper? launguage is korean\",\n",
    "    \"What is the definition of Canine Adenovirus Infection? launguage is korean\",\n",
    "    \"What preventive vaccines are available for dogs to protect against common diseases? launguage is korean\",\n",
    "    \"What is the recommended course of action if my cat shows symptoms of Feline Immunodeficiency Virus (FIV)? launguage is korean\"\n",
    "]"
   ]
  },
  {
   "cell_type": "markdown",
   "id": "a72d9fb4-d992-4281-abd5-a6233cd531c2",
   "metadata": {
    "tags": []
   },
   "source": [
    "## Evaluation\n",
    "- RAGAS"
   ]
  },
  {
   "cell_type": "markdown",
   "id": "3ac1a716-c77f-40a7-9f69-9de0f1e1bfff",
   "metadata": {
    "tags": []
   },
   "source": [
    "### Make a corpus and qa set"
   ]
  },
  {
   "cell_type": "code",
   "execution_count": 25,
   "id": "2e46ea46-a054-49f9-bd81-32ac3558ce1d",
   "metadata": {},
   "outputs": [],
   "source": [
    "# import logging\n",
    "\n",
    "# # Set logging level to WARNING to suppress INFO and DEBUG logs\n",
    "# logging.getLogger(\"openai\").setLevel(logging.WARNING)\n",
    "# logging.getLogger(\"httpx\").setLevel(logging.WARNING)\n"
   ]
  },
  {
   "cell_type": "code",
   "execution_count": 35,
   "id": "d7c86f5c-d9db-4fd4-b57e-04d32f011dc2",
   "metadata": {},
   "outputs": [],
   "source": [
    "from ragas.testset.generator import TestsetGenerator\n",
    "from ragas.testset.evolutions import simple, reasoning, multi_context\n",
    "from langchain_openai import ChatOpenAI, OpenAIEmbeddings\n",
    "import os"
   ]
  },
  {
   "cell_type": "code",
   "execution_count": null,
   "id": "5ae98ec9-23b2-49e6-9da2-e27a3248f327",
   "metadata": {},
   "outputs": [],
   "source": [
    "# generator with openai models\n",
    "generator_llm = ChatOpenAI(model=\"gpt-4o-mini\")\n",
    "critic_llm = ChatOpenAI(model=\"gpt-4o-mini\")\n",
    "embeddings = OpenAIEmbeddings()\n",
    "\n",
    "generator = TestsetGenerator.from_langchain(\n",
    "    generator_llm,\n",
    "    critic_llm,\n",
    "    embeddings\n",
    ")\n",
    "\n",
    "# generate testset\n",
    "testset = generator.generate_with_langchain_docs(documents[:9], test_size=1, distributions={simple: 0.5, reasoning: 0.25, multi_context: 0.25})"
   ]
  },
  {
   "cell_type": "code",
   "execution_count": null,
   "id": "c72281ee-e3db-41a2-b956-272096d7bd84",
   "metadata": {},
   "outputs": [],
   "source": [
    "testset.head()"
   ]
  },
  {
   "cell_type": "code",
   "execution_count": null,
   "id": "55d957f3-472e-4685-a468-c717788ca792",
   "metadata": {},
   "outputs": [],
   "source": [
    "import nest_asyncio\n",
    "import asyncio\n",
    "\n",
    "# nest_asyncio 적용\n",
    "nest_asyncio.apply()\n",
    "\n",
    "from autorag.data.qacreation.ragas import generate_qa_ragas\n",
    "from langchain_openai import ChatOpenAI, OpenAIEmbeddings\n",
    "from ragas.testset.evolutions import simple, reasoning, multi_context, conditional\n",
    "from autorag.data.qacreation.ragas import generate_qa_ragas\n",
    "import pandas as pd\n",
    "\n",
    "corpus_df = pd.read_parquet(vector_pq)\n",
    "\n",
    "distributions = {  # uniform distribution\n",
    "    simple: 0.25,\n",
    "    reasoning: 0.25,\n",
    "    multi_context: 0.25,\n",
    "    conditional: 0.25\n",
    "}\n",
    "\n",
    "generator_llm = ChatOpenAI(model=\"gpt-4o\", temperature=0.5)\n",
    "critic_llm = ChatOpenAI(model=\"gpt-4-turbo\", temperature=0)\n",
    "embedding_model = OpenAIEmbeddings()\n",
    "\n",
    "qa_df = generate_qa_ragas(corpus_df, test_size=300, distributions=distributions,\n",
    "                          generator_llm=generator_llm, critic_llm=critic_llm, embedding_model=embedding_model)\n",
    "\n",
    "\n",
    "\n",
    "df2 = qa_df\n",
    "df1 = corpus\n",
    "\n",
    "# Create the context column based on the doc_id matching retrieval_gt values\n",
    "df2['context'] = df2['retrieval_gt'].apply(\n",
    "    lambda x: [df1.loc[df1['doc_id'] == doc_id, 'contents'].values[0] for doc_id in eval(x)[0]]\n",
    ")\n",
    "\n",
    "from datasets import Dataset\n",
    "\n",
    "# Dataset\n",
    "qa = df2[['query', 'context', 'generation_gt']]\n",
    "\n",
    "questions = qa['query']\n",
    "answers = qa['generation_gt']\n",
    "contexts = qa['context']\n",
    "ground_truths = qa['generation_gt']\n",
    "\n",
    "# To dict\n",
    "data = {\n",
    "    \"question\": questions,\n",
    "    \"answer\": answers,\n",
    "    \"contexts\": contexts.to_list(),\n",
    "    \"ground_truth\": ground_truths\n",
    "}\n",
    "\n",
    "# Convert dict to dataset\n",
    "dataset = Dataset.from_dict(data)\n",
    "\n",
    "dataset = dataset.map(lambda example: {'contexts': [example['contexts']]})\n",
    "\n",
    "\n",
    "import nest_asyncio\n",
    "import asyncio\n",
    "from ragas import evaluate\n",
    "from ragas.metrics import (\n",
    "    faithfulness,\n",
    "    answer_relevancy,\n",
    "    context_recall,\n",
    "    context_precision,\n",
    ")\n",
    "\n",
    "# nest_asyncio\n",
    "nest_asyncio.apply()\n",
    "\n",
    "# dataset and metrics\n",
    "result = evaluate(\n",
    "    dataset=dataset,\n",
    "    metrics=[\n",
    "        context_precision,\n",
    "        context_recall,\n",
    "        faithfulness,\n",
    "        answer_relevancy,\n",
    "    ],\n",
    "    is_async=False  # 비동기 모드를 사용하지 않도록 설정\n",
    ")\n",
    "\n",
    "# results\n",
    "df = result.to_pandas()\n",
    "\n",
    "print(df)"
   ]
  }
 ],
 "metadata": {
  "kernelspec": {
   "display_name": "miniconda3-chan [Python/conda:env]",
   "language": "python",
   "name": "conda-env-miniconda3-chan-py"
  },
  "language_info": {
   "codemirror_mode": {
    "name": "ipython",
    "version": 3
   },
   "file_extension": ".py",
   "mimetype": "text/x-python",
   "name": "python",
   "nbconvert_exporter": "python",
   "pygments_lexer": "ipython3",
   "version": "3.11.9"
  }
 },
 "nbformat": 4,
 "nbformat_minor": 5
}
